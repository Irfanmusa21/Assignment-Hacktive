{
 "cells": [
  {
   "cell_type": "markdown",
   "id": "728cb2a6",
   "metadata": {},
   "source": [
    "**Irfan Musa** <br>\n",
    "**PYTN-KS11-019**"
   ]
  },
  {
   "cell_type": "markdown",
   "id": "4ca319d3",
   "metadata": {},
   "source": [
    "Lakukan metode statistik kepada dataset, seperti Central Tendencies, Intervals, Hypotesis testing, dan semua metode statistik yang telah kamu pelajari."
   ]
  },
  {
   "cell_type": "markdown",
   "id": "7057cbd8",
   "metadata": {},
   "source": [
    "# A. Import Library\n",
    "\n",
    "Import library-library yang dibutuhkan"
   ]
  },
  {
   "cell_type": "code",
   "execution_count": 1,
   "id": "8201c3de",
   "metadata": {},
   "outputs": [],
   "source": [
    "import numpy as np\n",
    "import pandas as pd\n",
    "import matplotlib.pyplot as plt\n",
    "import matplotlib as mpl\n",
    "import seaborn as sns\n",
    "import math\n",
    "import statistics\n",
    "import scipy.stats\n",
    "from IPython.display import Math, Latex\n",
    "%matplotlib inline"
   ]
  },
  {
   "cell_type": "markdown",
   "id": "bf865f9d",
   "metadata": {},
   "source": [
    "# B. Data Understanding\n",
    "Data understanding merupakan sebuah tahapan yang bertujuan untuk mendapatkan pemahaman awal mengenai data yang dibutuhkan untuk memecahkan permasalahan yang diberikan."
   ]
  },
  {
   "cell_type": "markdown",
   "id": "1d1a26b3",
   "metadata": {},
   "source": [
    "# C. Data Collection\n",
    "Data collection atau pengumpulan data merupakan prosedur mengumpulkan, mengukur, dan menganalisis berbagai tipe informasi menggunakan teknik yang berstandar."
   ]
  },
  {
   "cell_type": "code",
   "execution_count": 2,
   "id": "5d721a0f",
   "metadata": {},
   "outputs": [
    {
     "data": {
      "text/html": [
       "<div>\n",
       "<style scoped>\n",
       "    .dataframe tbody tr th:only-of-type {\n",
       "        vertical-align: middle;\n",
       "    }\n",
       "\n",
       "    .dataframe tbody tr th {\n",
       "        vertical-align: top;\n",
       "    }\n",
       "\n",
       "    .dataframe thead th {\n",
       "        text-align: right;\n",
       "    }\n",
       "</style>\n",
       "<table border=\"1\" class=\"dataframe\">\n",
       "  <thead>\n",
       "    <tr style=\"text-align: right;\">\n",
       "      <th></th>\n",
       "      <th>Unnamed: 0</th>\n",
       "      <th>BOROUGH</th>\n",
       "      <th>NEIGHBORHOOD</th>\n",
       "      <th>BUILDING CLASS CATEGORY</th>\n",
       "      <th>TAX CLASS AT PRESENT</th>\n",
       "      <th>BLOCK</th>\n",
       "      <th>LOT</th>\n",
       "      <th>EASE-MENT</th>\n",
       "      <th>BUILDING CLASS AT PRESENT</th>\n",
       "      <th>ADDRESS</th>\n",
       "      <th>...</th>\n",
       "      <th>RESIDENTIAL UNITS</th>\n",
       "      <th>COMMERCIAL UNITS</th>\n",
       "      <th>TOTAL UNITS</th>\n",
       "      <th>LAND SQUARE FEET</th>\n",
       "      <th>GROSS SQUARE FEET</th>\n",
       "      <th>YEAR BUILT</th>\n",
       "      <th>TAX CLASS AT TIME OF SALE</th>\n",
       "      <th>BUILDING CLASS AT TIME OF SALE</th>\n",
       "      <th>SALE PRICE</th>\n",
       "      <th>SALE DATE</th>\n",
       "    </tr>\n",
       "  </thead>\n",
       "  <tbody>\n",
       "    <tr>\n",
       "      <th>0</th>\n",
       "      <td>4</td>\n",
       "      <td>1</td>\n",
       "      <td>ALPHABET CITY</td>\n",
       "      <td>07 RENTALS - WALKUP APARTMENTS</td>\n",
       "      <td>2A</td>\n",
       "      <td>392</td>\n",
       "      <td>6</td>\n",
       "      <td></td>\n",
       "      <td>C2</td>\n",
       "      <td>153 AVENUE B</td>\n",
       "      <td>...</td>\n",
       "      <td>5</td>\n",
       "      <td>0</td>\n",
       "      <td>5</td>\n",
       "      <td>1633</td>\n",
       "      <td>6440</td>\n",
       "      <td>1900</td>\n",
       "      <td>2</td>\n",
       "      <td>C2</td>\n",
       "      <td>6625000</td>\n",
       "      <td>2017-07-19 00:00:00</td>\n",
       "    </tr>\n",
       "    <tr>\n",
       "      <th>1</th>\n",
       "      <td>5</td>\n",
       "      <td>1</td>\n",
       "      <td>ALPHABET CITY</td>\n",
       "      <td>07 RENTALS - WALKUP APARTMENTS</td>\n",
       "      <td>2</td>\n",
       "      <td>399</td>\n",
       "      <td>26</td>\n",
       "      <td></td>\n",
       "      <td>C7</td>\n",
       "      <td>234 EAST 4TH   STREET</td>\n",
       "      <td>...</td>\n",
       "      <td>28</td>\n",
       "      <td>3</td>\n",
       "      <td>31</td>\n",
       "      <td>4616</td>\n",
       "      <td>18690</td>\n",
       "      <td>1900</td>\n",
       "      <td>2</td>\n",
       "      <td>C7</td>\n",
       "      <td>-</td>\n",
       "      <td>2016-12-14 00:00:00</td>\n",
       "    </tr>\n",
       "    <tr>\n",
       "      <th>2</th>\n",
       "      <td>6</td>\n",
       "      <td>1</td>\n",
       "      <td>ALPHABET CITY</td>\n",
       "      <td>07 RENTALS - WALKUP APARTMENTS</td>\n",
       "      <td>2</td>\n",
       "      <td>399</td>\n",
       "      <td>39</td>\n",
       "      <td></td>\n",
       "      <td>C7</td>\n",
       "      <td>197 EAST 3RD   STREET</td>\n",
       "      <td>...</td>\n",
       "      <td>16</td>\n",
       "      <td>1</td>\n",
       "      <td>17</td>\n",
       "      <td>2212</td>\n",
       "      <td>7803</td>\n",
       "      <td>1900</td>\n",
       "      <td>2</td>\n",
       "      <td>C7</td>\n",
       "      <td>-</td>\n",
       "      <td>2016-12-09 00:00:00</td>\n",
       "    </tr>\n",
       "    <tr>\n",
       "      <th>3</th>\n",
       "      <td>7</td>\n",
       "      <td>1</td>\n",
       "      <td>ALPHABET CITY</td>\n",
       "      <td>07 RENTALS - WALKUP APARTMENTS</td>\n",
       "      <td>2B</td>\n",
       "      <td>402</td>\n",
       "      <td>21</td>\n",
       "      <td></td>\n",
       "      <td>C4</td>\n",
       "      <td>154 EAST 7TH STREET</td>\n",
       "      <td>...</td>\n",
       "      <td>10</td>\n",
       "      <td>0</td>\n",
       "      <td>10</td>\n",
       "      <td>2272</td>\n",
       "      <td>6794</td>\n",
       "      <td>1913</td>\n",
       "      <td>2</td>\n",
       "      <td>C4</td>\n",
       "      <td>3936272</td>\n",
       "      <td>2016-09-23 00:00:00</td>\n",
       "    </tr>\n",
       "    <tr>\n",
       "      <th>4</th>\n",
       "      <td>8</td>\n",
       "      <td>1</td>\n",
       "      <td>ALPHABET CITY</td>\n",
       "      <td>07 RENTALS - WALKUP APARTMENTS</td>\n",
       "      <td>2A</td>\n",
       "      <td>404</td>\n",
       "      <td>55</td>\n",
       "      <td></td>\n",
       "      <td>C2</td>\n",
       "      <td>301 EAST 10TH   STREET</td>\n",
       "      <td>...</td>\n",
       "      <td>6</td>\n",
       "      <td>0</td>\n",
       "      <td>6</td>\n",
       "      <td>2369</td>\n",
       "      <td>4615</td>\n",
       "      <td>1900</td>\n",
       "      <td>2</td>\n",
       "      <td>C2</td>\n",
       "      <td>8000000</td>\n",
       "      <td>2016-11-17 00:00:00</td>\n",
       "    </tr>\n",
       "  </tbody>\n",
       "</table>\n",
       "<p>5 rows × 22 columns</p>\n",
       "</div>"
      ],
      "text/plain": [
       "   Unnamed: 0  BOROUGH   NEIGHBORHOOD  \\\n",
       "0           4        1  ALPHABET CITY   \n",
       "1           5        1  ALPHABET CITY   \n",
       "2           6        1  ALPHABET CITY   \n",
       "3           7        1  ALPHABET CITY   \n",
       "4           8        1  ALPHABET CITY   \n",
       "\n",
       "                       BUILDING CLASS CATEGORY TAX CLASS AT PRESENT  BLOCK  \\\n",
       "0  07 RENTALS - WALKUP APARTMENTS                                2A    392   \n",
       "1  07 RENTALS - WALKUP APARTMENTS                                 2    399   \n",
       "2  07 RENTALS - WALKUP APARTMENTS                                 2    399   \n",
       "3  07 RENTALS - WALKUP APARTMENTS                                2B    402   \n",
       "4  07 RENTALS - WALKUP APARTMENTS                                2A    404   \n",
       "\n",
       "   LOT EASE-MENT BUILDING CLASS AT PRESENT                 ADDRESS  ...  \\\n",
       "0    6                                  C2            153 AVENUE B  ...   \n",
       "1   26                                  C7   234 EAST 4TH   STREET  ...   \n",
       "2   39                                  C7   197 EAST 3RD   STREET  ...   \n",
       "3   21                                  C4     154 EAST 7TH STREET  ...   \n",
       "4   55                                  C2  301 EAST 10TH   STREET  ...   \n",
       "\n",
       "  RESIDENTIAL UNITS  COMMERCIAL UNITS  TOTAL UNITS  LAND SQUARE FEET  \\\n",
       "0                 5                 0            5              1633   \n",
       "1                28                 3           31              4616   \n",
       "2                16                 1           17              2212   \n",
       "3                10                 0           10              2272   \n",
       "4                 6                 0            6              2369   \n",
       "\n",
       "   GROSS SQUARE FEET YEAR BUILT TAX CLASS AT TIME OF SALE  \\\n",
       "0               6440       1900                         2   \n",
       "1              18690       1900                         2   \n",
       "2               7803       1900                         2   \n",
       "3               6794       1913                         2   \n",
       "4               4615       1900                         2   \n",
       "\n",
       "   BUILDING CLASS AT TIME OF SALE  SALE PRICE            SALE DATE  \n",
       "0                              C2     6625000  2017-07-19 00:00:00  \n",
       "1                              C7         -    2016-12-14 00:00:00  \n",
       "2                              C7         -    2016-12-09 00:00:00  \n",
       "3                              C4     3936272  2016-09-23 00:00:00  \n",
       "4                              C2     8000000  2016-11-17 00:00:00  \n",
       "\n",
       "[5 rows x 22 columns]"
      ]
     },
     "execution_count": 2,
     "metadata": {},
     "output_type": "execute_result"
    }
   ],
   "source": [
    "#upload dataset\n",
    "df_nyc = pd.read_csv('nyc-rolling-sales.csv')\n",
    "df_nyc.head()"
   ]
  },
  {
   "cell_type": "markdown",
   "id": "c88aec99",
   "metadata": {},
   "source": [
    "**Penjelasan terkait data** <br> This dataset contains the location, address, type, sale price, and sale date of building units sold. A reference on the trickier fields:\n",
    "\n",
    "- BOROUGH: A digit code for the borough the property is located in; in order these are Manhattan (1), Bronx (2), Brooklyn (3), Queens (4), and Staten Island (5).\n",
    "- BLOCK; LOT: The combination of borough, block, and lot forms a unique key for property in New York City. Commonly called a BBL.\n",
    "- BUILDING CLASS AT PRESENT and BUILDING CLASS AT TIME OF SALE: The type of building at various points in time. See the glossary linked to below. <br>\n",
    "<br> Sumber data : https://www.kaggle.com/datasets/new-york-city/nyc-property-sales"
   ]
  },
  {
   "cell_type": "markdown",
   "id": "83beaebc",
   "metadata": {},
   "source": [
    "# D. Data Exploration\n",
    "Data exploration merupakan pendekatan yang mirip dengan analisis data awal yang meliputi memeriksa jumlah data, tipe data, dan statistika."
   ]
  },
  {
   "cell_type": "code",
   "execution_count": 3,
   "id": "07e57357",
   "metadata": {},
   "outputs": [
    {
     "data": {
      "text/plain": [
       "(84548, 22)"
      ]
     },
     "execution_count": 3,
     "metadata": {},
     "output_type": "execute_result"
    }
   ],
   "source": [
    "df_nyc.shape #Melihat jumlah baris dan kolom dari data"
   ]
  },
  {
   "cell_type": "code",
   "execution_count": 4,
   "id": "b1bb7a9d",
   "metadata": {},
   "outputs": [
    {
     "name": "stdout",
     "output_type": "stream",
     "text": [
      "<class 'pandas.core.frame.DataFrame'>\n",
      "RangeIndex: 84548 entries, 0 to 84547\n",
      "Data columns (total 22 columns):\n",
      " #   Column                          Non-Null Count  Dtype \n",
      "---  ------                          --------------  ----- \n",
      " 0   Unnamed: 0                      84548 non-null  int64 \n",
      " 1   BOROUGH                         84548 non-null  int64 \n",
      " 2   NEIGHBORHOOD                    84548 non-null  object\n",
      " 3   BUILDING CLASS CATEGORY         84548 non-null  object\n",
      " 4   TAX CLASS AT PRESENT            84548 non-null  object\n",
      " 5   BLOCK                           84548 non-null  int64 \n",
      " 6   LOT                             84548 non-null  int64 \n",
      " 7   EASE-MENT                       84548 non-null  object\n",
      " 8   BUILDING CLASS AT PRESENT       84548 non-null  object\n",
      " 9   ADDRESS                         84548 non-null  object\n",
      " 10  APARTMENT NUMBER                84548 non-null  object\n",
      " 11  ZIP CODE                        84548 non-null  int64 \n",
      " 12  RESIDENTIAL UNITS               84548 non-null  int64 \n",
      " 13  COMMERCIAL UNITS                84548 non-null  int64 \n",
      " 14  TOTAL UNITS                     84548 non-null  int64 \n",
      " 15  LAND SQUARE FEET                84548 non-null  object\n",
      " 16  GROSS SQUARE FEET               84548 non-null  object\n",
      " 17  YEAR BUILT                      84548 non-null  int64 \n",
      " 18  TAX CLASS AT TIME OF SALE       84548 non-null  int64 \n",
      " 19  BUILDING CLASS AT TIME OF SALE  84548 non-null  object\n",
      " 20  SALE PRICE                      84548 non-null  object\n",
      " 21  SALE DATE                       84548 non-null  object\n",
      "dtypes: int64(10), object(12)\n",
      "memory usage: 14.2+ MB\n"
     ]
    }
   ],
   "source": [
    "df_nyc.info() #Melihat tipe data"
   ]
  },
  {
   "cell_type": "code",
   "execution_count": 5,
   "id": "56badaaf",
   "metadata": {},
   "outputs": [
    {
     "data": {
      "text/html": [
       "<div>\n",
       "<style scoped>\n",
       "    .dataframe tbody tr th:only-of-type {\n",
       "        vertical-align: middle;\n",
       "    }\n",
       "\n",
       "    .dataframe tbody tr th {\n",
       "        vertical-align: top;\n",
       "    }\n",
       "\n",
       "    .dataframe thead th {\n",
       "        text-align: right;\n",
       "    }\n",
       "</style>\n",
       "<table border=\"1\" class=\"dataframe\">\n",
       "  <thead>\n",
       "    <tr style=\"text-align: right;\">\n",
       "      <th></th>\n",
       "      <th>Unnamed: 0</th>\n",
       "      <th>BOROUGH</th>\n",
       "      <th>BLOCK</th>\n",
       "      <th>LOT</th>\n",
       "      <th>ZIP CODE</th>\n",
       "      <th>RESIDENTIAL UNITS</th>\n",
       "      <th>COMMERCIAL UNITS</th>\n",
       "      <th>TOTAL UNITS</th>\n",
       "      <th>YEAR BUILT</th>\n",
       "      <th>TAX CLASS AT TIME OF SALE</th>\n",
       "    </tr>\n",
       "  </thead>\n",
       "  <tbody>\n",
       "    <tr>\n",
       "      <th>count</th>\n",
       "      <td>84548.000000</td>\n",
       "      <td>84548.000000</td>\n",
       "      <td>84548.000000</td>\n",
       "      <td>84548.000000</td>\n",
       "      <td>84548.000000</td>\n",
       "      <td>84548.000000</td>\n",
       "      <td>84548.000000</td>\n",
       "      <td>84548.000000</td>\n",
       "      <td>84548.000000</td>\n",
       "      <td>84548.000000</td>\n",
       "    </tr>\n",
       "    <tr>\n",
       "      <th>mean</th>\n",
       "      <td>10344.359878</td>\n",
       "      <td>2.998758</td>\n",
       "      <td>4237.218976</td>\n",
       "      <td>376.224015</td>\n",
       "      <td>10731.991614</td>\n",
       "      <td>2.025264</td>\n",
       "      <td>0.193559</td>\n",
       "      <td>2.249184</td>\n",
       "      <td>1789.322976</td>\n",
       "      <td>1.657485</td>\n",
       "    </tr>\n",
       "    <tr>\n",
       "      <th>std</th>\n",
       "      <td>7151.779436</td>\n",
       "      <td>1.289790</td>\n",
       "      <td>3568.263407</td>\n",
       "      <td>658.136814</td>\n",
       "      <td>1290.879147</td>\n",
       "      <td>16.721037</td>\n",
       "      <td>8.713183</td>\n",
       "      <td>18.972584</td>\n",
       "      <td>537.344993</td>\n",
       "      <td>0.819341</td>\n",
       "    </tr>\n",
       "    <tr>\n",
       "      <th>min</th>\n",
       "      <td>4.000000</td>\n",
       "      <td>1.000000</td>\n",
       "      <td>1.000000</td>\n",
       "      <td>1.000000</td>\n",
       "      <td>0.000000</td>\n",
       "      <td>0.000000</td>\n",
       "      <td>0.000000</td>\n",
       "      <td>0.000000</td>\n",
       "      <td>0.000000</td>\n",
       "      <td>1.000000</td>\n",
       "    </tr>\n",
       "    <tr>\n",
       "      <th>25%</th>\n",
       "      <td>4231.000000</td>\n",
       "      <td>2.000000</td>\n",
       "      <td>1322.750000</td>\n",
       "      <td>22.000000</td>\n",
       "      <td>10305.000000</td>\n",
       "      <td>0.000000</td>\n",
       "      <td>0.000000</td>\n",
       "      <td>1.000000</td>\n",
       "      <td>1920.000000</td>\n",
       "      <td>1.000000</td>\n",
       "    </tr>\n",
       "    <tr>\n",
       "      <th>50%</th>\n",
       "      <td>8942.000000</td>\n",
       "      <td>3.000000</td>\n",
       "      <td>3311.000000</td>\n",
       "      <td>50.000000</td>\n",
       "      <td>11209.000000</td>\n",
       "      <td>1.000000</td>\n",
       "      <td>0.000000</td>\n",
       "      <td>1.000000</td>\n",
       "      <td>1940.000000</td>\n",
       "      <td>2.000000</td>\n",
       "    </tr>\n",
       "    <tr>\n",
       "      <th>75%</th>\n",
       "      <td>15987.250000</td>\n",
       "      <td>4.000000</td>\n",
       "      <td>6281.000000</td>\n",
       "      <td>1001.000000</td>\n",
       "      <td>11357.000000</td>\n",
       "      <td>2.000000</td>\n",
       "      <td>0.000000</td>\n",
       "      <td>2.000000</td>\n",
       "      <td>1965.000000</td>\n",
       "      <td>2.000000</td>\n",
       "    </tr>\n",
       "    <tr>\n",
       "      <th>max</th>\n",
       "      <td>26739.000000</td>\n",
       "      <td>5.000000</td>\n",
       "      <td>16322.000000</td>\n",
       "      <td>9106.000000</td>\n",
       "      <td>11694.000000</td>\n",
       "      <td>1844.000000</td>\n",
       "      <td>2261.000000</td>\n",
       "      <td>2261.000000</td>\n",
       "      <td>2017.000000</td>\n",
       "      <td>4.000000</td>\n",
       "    </tr>\n",
       "  </tbody>\n",
       "</table>\n",
       "</div>"
      ],
      "text/plain": [
       "         Unnamed: 0       BOROUGH         BLOCK           LOT      ZIP CODE  \\\n",
       "count  84548.000000  84548.000000  84548.000000  84548.000000  84548.000000   \n",
       "mean   10344.359878      2.998758   4237.218976    376.224015  10731.991614   \n",
       "std     7151.779436      1.289790   3568.263407    658.136814   1290.879147   \n",
       "min        4.000000      1.000000      1.000000      1.000000      0.000000   \n",
       "25%     4231.000000      2.000000   1322.750000     22.000000  10305.000000   \n",
       "50%     8942.000000      3.000000   3311.000000     50.000000  11209.000000   \n",
       "75%    15987.250000      4.000000   6281.000000   1001.000000  11357.000000   \n",
       "max    26739.000000      5.000000  16322.000000   9106.000000  11694.000000   \n",
       "\n",
       "       RESIDENTIAL UNITS  COMMERCIAL UNITS   TOTAL UNITS    YEAR BUILT  \\\n",
       "count       84548.000000      84548.000000  84548.000000  84548.000000   \n",
       "mean            2.025264          0.193559      2.249184   1789.322976   \n",
       "std            16.721037          8.713183     18.972584    537.344993   \n",
       "min             0.000000          0.000000      0.000000      0.000000   \n",
       "25%             0.000000          0.000000      1.000000   1920.000000   \n",
       "50%             1.000000          0.000000      1.000000   1940.000000   \n",
       "75%             2.000000          0.000000      2.000000   1965.000000   \n",
       "max          1844.000000       2261.000000   2261.000000   2017.000000   \n",
       "\n",
       "       TAX CLASS AT TIME OF SALE  \n",
       "count               84548.000000  \n",
       "mean                    1.657485  \n",
       "std                     0.819341  \n",
       "min                     1.000000  \n",
       "25%                     1.000000  \n",
       "50%                     2.000000  \n",
       "75%                     2.000000  \n",
       "max                     4.000000  "
      ]
     },
     "execution_count": 5,
     "metadata": {},
     "output_type": "execute_result"
    }
   ],
   "source": [
    "df_nyc.describe() #Melihat penjelasan singkat secara statistik dari data"
   ]
  },
  {
   "cell_type": "markdown",
   "id": "e2e643e4",
   "metadata": {},
   "source": [
    "# E. PreProcessing Data\n",
    "Data preprocessing merupakan proses yang mengubah data mentah ke dalam bentuk yang lebih mudah dipahami."
   ]
  },
  {
   "cell_type": "code",
   "execution_count": 6,
   "id": "37dea77a",
   "metadata": {
    "scrolled": true
   },
   "outputs": [
    {
     "data": {
      "text/html": [
       "<div>\n",
       "<style scoped>\n",
       "    .dataframe tbody tr th:only-of-type {\n",
       "        vertical-align: middle;\n",
       "    }\n",
       "\n",
       "    .dataframe tbody tr th {\n",
       "        vertical-align: top;\n",
       "    }\n",
       "\n",
       "    .dataframe thead th {\n",
       "        text-align: right;\n",
       "    }\n",
       "</style>\n",
       "<table border=\"1\" class=\"dataframe\">\n",
       "  <thead>\n",
       "    <tr style=\"text-align: right;\">\n",
       "      <th></th>\n",
       "      <th>unnamed: 0</th>\n",
       "      <th>borough</th>\n",
       "      <th>neighborhood</th>\n",
       "      <th>building class category</th>\n",
       "      <th>tax class at present</th>\n",
       "      <th>block</th>\n",
       "      <th>lot</th>\n",
       "      <th>ease-ment</th>\n",
       "      <th>building class at present</th>\n",
       "      <th>address</th>\n",
       "      <th>...</th>\n",
       "      <th>residential units</th>\n",
       "      <th>commercial units</th>\n",
       "      <th>total units</th>\n",
       "      <th>land square feet</th>\n",
       "      <th>gross square feet</th>\n",
       "      <th>year built</th>\n",
       "      <th>tax class at time of sale</th>\n",
       "      <th>building class at time of sale</th>\n",
       "      <th>sale price</th>\n",
       "      <th>sale date</th>\n",
       "    </tr>\n",
       "  </thead>\n",
       "  <tbody>\n",
       "    <tr>\n",
       "      <th>0</th>\n",
       "      <td>4</td>\n",
       "      <td>1</td>\n",
       "      <td>ALPHABET CITY</td>\n",
       "      <td>07 RENTALS - WALKUP APARTMENTS</td>\n",
       "      <td>2A</td>\n",
       "      <td>392</td>\n",
       "      <td>6</td>\n",
       "      <td></td>\n",
       "      <td>C2</td>\n",
       "      <td>153 AVENUE B</td>\n",
       "      <td>...</td>\n",
       "      <td>5</td>\n",
       "      <td>0</td>\n",
       "      <td>5</td>\n",
       "      <td>1633</td>\n",
       "      <td>6440</td>\n",
       "      <td>1900</td>\n",
       "      <td>2</td>\n",
       "      <td>C2</td>\n",
       "      <td>6625000</td>\n",
       "      <td>2017-07-19 00:00:00</td>\n",
       "    </tr>\n",
       "    <tr>\n",
       "      <th>1</th>\n",
       "      <td>5</td>\n",
       "      <td>1</td>\n",
       "      <td>ALPHABET CITY</td>\n",
       "      <td>07 RENTALS - WALKUP APARTMENTS</td>\n",
       "      <td>2</td>\n",
       "      <td>399</td>\n",
       "      <td>26</td>\n",
       "      <td></td>\n",
       "      <td>C7</td>\n",
       "      <td>234 EAST 4TH   STREET</td>\n",
       "      <td>...</td>\n",
       "      <td>28</td>\n",
       "      <td>3</td>\n",
       "      <td>31</td>\n",
       "      <td>4616</td>\n",
       "      <td>18690</td>\n",
       "      <td>1900</td>\n",
       "      <td>2</td>\n",
       "      <td>C7</td>\n",
       "      <td>-</td>\n",
       "      <td>2016-12-14 00:00:00</td>\n",
       "    </tr>\n",
       "    <tr>\n",
       "      <th>2</th>\n",
       "      <td>6</td>\n",
       "      <td>1</td>\n",
       "      <td>ALPHABET CITY</td>\n",
       "      <td>07 RENTALS - WALKUP APARTMENTS</td>\n",
       "      <td>2</td>\n",
       "      <td>399</td>\n",
       "      <td>39</td>\n",
       "      <td></td>\n",
       "      <td>C7</td>\n",
       "      <td>197 EAST 3RD   STREET</td>\n",
       "      <td>...</td>\n",
       "      <td>16</td>\n",
       "      <td>1</td>\n",
       "      <td>17</td>\n",
       "      <td>2212</td>\n",
       "      <td>7803</td>\n",
       "      <td>1900</td>\n",
       "      <td>2</td>\n",
       "      <td>C7</td>\n",
       "      <td>-</td>\n",
       "      <td>2016-12-09 00:00:00</td>\n",
       "    </tr>\n",
       "    <tr>\n",
       "      <th>3</th>\n",
       "      <td>7</td>\n",
       "      <td>1</td>\n",
       "      <td>ALPHABET CITY</td>\n",
       "      <td>07 RENTALS - WALKUP APARTMENTS</td>\n",
       "      <td>2B</td>\n",
       "      <td>402</td>\n",
       "      <td>21</td>\n",
       "      <td></td>\n",
       "      <td>C4</td>\n",
       "      <td>154 EAST 7TH STREET</td>\n",
       "      <td>...</td>\n",
       "      <td>10</td>\n",
       "      <td>0</td>\n",
       "      <td>10</td>\n",
       "      <td>2272</td>\n",
       "      <td>6794</td>\n",
       "      <td>1913</td>\n",
       "      <td>2</td>\n",
       "      <td>C4</td>\n",
       "      <td>3936272</td>\n",
       "      <td>2016-09-23 00:00:00</td>\n",
       "    </tr>\n",
       "    <tr>\n",
       "      <th>4</th>\n",
       "      <td>8</td>\n",
       "      <td>1</td>\n",
       "      <td>ALPHABET CITY</td>\n",
       "      <td>07 RENTALS - WALKUP APARTMENTS</td>\n",
       "      <td>2A</td>\n",
       "      <td>404</td>\n",
       "      <td>55</td>\n",
       "      <td></td>\n",
       "      <td>C2</td>\n",
       "      <td>301 EAST 10TH   STREET</td>\n",
       "      <td>...</td>\n",
       "      <td>6</td>\n",
       "      <td>0</td>\n",
       "      <td>6</td>\n",
       "      <td>2369</td>\n",
       "      <td>4615</td>\n",
       "      <td>1900</td>\n",
       "      <td>2</td>\n",
       "      <td>C2</td>\n",
       "      <td>8000000</td>\n",
       "      <td>2016-11-17 00:00:00</td>\n",
       "    </tr>\n",
       "  </tbody>\n",
       "</table>\n",
       "<p>5 rows × 22 columns</p>\n",
       "</div>"
      ],
      "text/plain": [
       "   unnamed: 0  borough   neighborhood  \\\n",
       "0           4        1  ALPHABET CITY   \n",
       "1           5        1  ALPHABET CITY   \n",
       "2           6        1  ALPHABET CITY   \n",
       "3           7        1  ALPHABET CITY   \n",
       "4           8        1  ALPHABET CITY   \n",
       "\n",
       "                       building class category tax class at present  block  \\\n",
       "0  07 RENTALS - WALKUP APARTMENTS                                2A    392   \n",
       "1  07 RENTALS - WALKUP APARTMENTS                                 2    399   \n",
       "2  07 RENTALS - WALKUP APARTMENTS                                 2    399   \n",
       "3  07 RENTALS - WALKUP APARTMENTS                                2B    402   \n",
       "4  07 RENTALS - WALKUP APARTMENTS                                2A    404   \n",
       "\n",
       "   lot ease-ment building class at present                 address  ...  \\\n",
       "0    6                                  C2            153 AVENUE B  ...   \n",
       "1   26                                  C7   234 EAST 4TH   STREET  ...   \n",
       "2   39                                  C7   197 EAST 3RD   STREET  ...   \n",
       "3   21                                  C4     154 EAST 7TH STREET  ...   \n",
       "4   55                                  C2  301 EAST 10TH   STREET  ...   \n",
       "\n",
       "  residential units  commercial units  total units  land square feet  \\\n",
       "0                 5                 0            5              1633   \n",
       "1                28                 3           31              4616   \n",
       "2                16                 1           17              2212   \n",
       "3                10                 0           10              2272   \n",
       "4                 6                 0            6              2369   \n",
       "\n",
       "   gross square feet year built tax class at time of sale  \\\n",
       "0               6440       1900                         2   \n",
       "1              18690       1900                         2   \n",
       "2               7803       1900                         2   \n",
       "3               6794       1913                         2   \n",
       "4               4615       1900                         2   \n",
       "\n",
       "   building class at time of sale  sale price            sale date  \n",
       "0                              C2     6625000  2017-07-19 00:00:00  \n",
       "1                              C7         -    2016-12-14 00:00:00  \n",
       "2                              C7         -    2016-12-09 00:00:00  \n",
       "3                              C4     3936272  2016-09-23 00:00:00  \n",
       "4                              C2     8000000  2016-11-17 00:00:00  \n",
       "\n",
       "[5 rows x 22 columns]"
      ]
     },
     "execution_count": 6,
     "metadata": {},
     "output_type": "execute_result"
    }
   ],
   "source": [
    "#Mengubah nama kolom menjadi lower case\n",
    "df_nyc.columns = map(str.lower, df_nyc.columns)\n",
    "df_nyc.head()"
   ]
  },
  {
   "cell_type": "markdown",
   "id": "f6bdd3d3",
   "metadata": {},
   "source": [
    "**Mengubah index pada kolom sesuai keinginan** <br>\n",
    "Index pada kolom borough diubah menjadi seperti berikut.\n",
    "- 1 = Manhattan\n",
    "- 2 = Bronx\n",
    "- 3 = Brooklyn\n",
    "- 4 = Queens\n",
    "- 5 = Staten Island"
   ]
  },
  {
   "cell_type": "code",
   "execution_count": 7,
   "id": "36f7cb1b",
   "metadata": {
    "scrolled": false
   },
   "outputs": [
    {
     "data": {
      "text/html": [
       "<div>\n",
       "<style scoped>\n",
       "    .dataframe tbody tr th:only-of-type {\n",
       "        vertical-align: middle;\n",
       "    }\n",
       "\n",
       "    .dataframe tbody tr th {\n",
       "        vertical-align: top;\n",
       "    }\n",
       "\n",
       "    .dataframe thead th {\n",
       "        text-align: right;\n",
       "    }\n",
       "</style>\n",
       "<table border=\"1\" class=\"dataframe\">\n",
       "  <thead>\n",
       "    <tr style=\"text-align: right;\">\n",
       "      <th></th>\n",
       "      <th>unnamed: 0</th>\n",
       "      <th>borough</th>\n",
       "      <th>neighborhood</th>\n",
       "      <th>building class category</th>\n",
       "      <th>tax class at present</th>\n",
       "      <th>block</th>\n",
       "      <th>lot</th>\n",
       "      <th>ease-ment</th>\n",
       "      <th>building class at present</th>\n",
       "      <th>address</th>\n",
       "      <th>...</th>\n",
       "      <th>residential units</th>\n",
       "      <th>commercial units</th>\n",
       "      <th>total units</th>\n",
       "      <th>land square feet</th>\n",
       "      <th>gross square feet</th>\n",
       "      <th>year built</th>\n",
       "      <th>tax class at time of sale</th>\n",
       "      <th>building class at time of sale</th>\n",
       "      <th>sale price</th>\n",
       "      <th>sale date</th>\n",
       "    </tr>\n",
       "  </thead>\n",
       "  <tbody>\n",
       "    <tr>\n",
       "      <th>0</th>\n",
       "      <td>4</td>\n",
       "      <td>Manhattan</td>\n",
       "      <td>ALPHABET CITY</td>\n",
       "      <td>07 RENTALS - WALKUP APARTMENTS</td>\n",
       "      <td>2A</td>\n",
       "      <td>392</td>\n",
       "      <td>6</td>\n",
       "      <td></td>\n",
       "      <td>C2</td>\n",
       "      <td>153 AVENUE B</td>\n",
       "      <td>...</td>\n",
       "      <td>5</td>\n",
       "      <td>0</td>\n",
       "      <td>5</td>\n",
       "      <td>1633</td>\n",
       "      <td>6440</td>\n",
       "      <td>1900</td>\n",
       "      <td>2</td>\n",
       "      <td>C2</td>\n",
       "      <td>6625000</td>\n",
       "      <td>2017-07-19 00:00:00</td>\n",
       "    </tr>\n",
       "    <tr>\n",
       "      <th>1</th>\n",
       "      <td>5</td>\n",
       "      <td>Manhattan</td>\n",
       "      <td>ALPHABET CITY</td>\n",
       "      <td>07 RENTALS - WALKUP APARTMENTS</td>\n",
       "      <td>2</td>\n",
       "      <td>399</td>\n",
       "      <td>26</td>\n",
       "      <td></td>\n",
       "      <td>C7</td>\n",
       "      <td>234 EAST 4TH   STREET</td>\n",
       "      <td>...</td>\n",
       "      <td>28</td>\n",
       "      <td>3</td>\n",
       "      <td>31</td>\n",
       "      <td>4616</td>\n",
       "      <td>18690</td>\n",
       "      <td>1900</td>\n",
       "      <td>2</td>\n",
       "      <td>C7</td>\n",
       "      <td>-</td>\n",
       "      <td>2016-12-14 00:00:00</td>\n",
       "    </tr>\n",
       "    <tr>\n",
       "      <th>2</th>\n",
       "      <td>6</td>\n",
       "      <td>Manhattan</td>\n",
       "      <td>ALPHABET CITY</td>\n",
       "      <td>07 RENTALS - WALKUP APARTMENTS</td>\n",
       "      <td>2</td>\n",
       "      <td>399</td>\n",
       "      <td>39</td>\n",
       "      <td></td>\n",
       "      <td>C7</td>\n",
       "      <td>197 EAST 3RD   STREET</td>\n",
       "      <td>...</td>\n",
       "      <td>16</td>\n",
       "      <td>1</td>\n",
       "      <td>17</td>\n",
       "      <td>2212</td>\n",
       "      <td>7803</td>\n",
       "      <td>1900</td>\n",
       "      <td>2</td>\n",
       "      <td>C7</td>\n",
       "      <td>-</td>\n",
       "      <td>2016-12-09 00:00:00</td>\n",
       "    </tr>\n",
       "    <tr>\n",
       "      <th>3</th>\n",
       "      <td>7</td>\n",
       "      <td>Manhattan</td>\n",
       "      <td>ALPHABET CITY</td>\n",
       "      <td>07 RENTALS - WALKUP APARTMENTS</td>\n",
       "      <td>2B</td>\n",
       "      <td>402</td>\n",
       "      <td>21</td>\n",
       "      <td></td>\n",
       "      <td>C4</td>\n",
       "      <td>154 EAST 7TH STREET</td>\n",
       "      <td>...</td>\n",
       "      <td>10</td>\n",
       "      <td>0</td>\n",
       "      <td>10</td>\n",
       "      <td>2272</td>\n",
       "      <td>6794</td>\n",
       "      <td>1913</td>\n",
       "      <td>2</td>\n",
       "      <td>C4</td>\n",
       "      <td>3936272</td>\n",
       "      <td>2016-09-23 00:00:00</td>\n",
       "    </tr>\n",
       "    <tr>\n",
       "      <th>4</th>\n",
       "      <td>8</td>\n",
       "      <td>Manhattan</td>\n",
       "      <td>ALPHABET CITY</td>\n",
       "      <td>07 RENTALS - WALKUP APARTMENTS</td>\n",
       "      <td>2A</td>\n",
       "      <td>404</td>\n",
       "      <td>55</td>\n",
       "      <td></td>\n",
       "      <td>C2</td>\n",
       "      <td>301 EAST 10TH   STREET</td>\n",
       "      <td>...</td>\n",
       "      <td>6</td>\n",
       "      <td>0</td>\n",
       "      <td>6</td>\n",
       "      <td>2369</td>\n",
       "      <td>4615</td>\n",
       "      <td>1900</td>\n",
       "      <td>2</td>\n",
       "      <td>C2</td>\n",
       "      <td>8000000</td>\n",
       "      <td>2016-11-17 00:00:00</td>\n",
       "    </tr>\n",
       "  </tbody>\n",
       "</table>\n",
       "<p>5 rows × 22 columns</p>\n",
       "</div>"
      ],
      "text/plain": [
       "   unnamed: 0    borough   neighborhood  \\\n",
       "0           4  Manhattan  ALPHABET CITY   \n",
       "1           5  Manhattan  ALPHABET CITY   \n",
       "2           6  Manhattan  ALPHABET CITY   \n",
       "3           7  Manhattan  ALPHABET CITY   \n",
       "4           8  Manhattan  ALPHABET CITY   \n",
       "\n",
       "                       building class category tax class at present  block  \\\n",
       "0  07 RENTALS - WALKUP APARTMENTS                                2A    392   \n",
       "1  07 RENTALS - WALKUP APARTMENTS                                 2    399   \n",
       "2  07 RENTALS - WALKUP APARTMENTS                                 2    399   \n",
       "3  07 RENTALS - WALKUP APARTMENTS                                2B    402   \n",
       "4  07 RENTALS - WALKUP APARTMENTS                                2A    404   \n",
       "\n",
       "   lot ease-ment building class at present                 address  ...  \\\n",
       "0    6                                  C2            153 AVENUE B  ...   \n",
       "1   26                                  C7   234 EAST 4TH   STREET  ...   \n",
       "2   39                                  C7   197 EAST 3RD   STREET  ...   \n",
       "3   21                                  C4     154 EAST 7TH STREET  ...   \n",
       "4   55                                  C2  301 EAST 10TH   STREET  ...   \n",
       "\n",
       "  residential units  commercial units  total units  land square feet  \\\n",
       "0                 5                 0            5              1633   \n",
       "1                28                 3           31              4616   \n",
       "2                16                 1           17              2212   \n",
       "3                10                 0           10              2272   \n",
       "4                 6                 0            6              2369   \n",
       "\n",
       "   gross square feet year built tax class at time of sale  \\\n",
       "0               6440       1900                         2   \n",
       "1              18690       1900                         2   \n",
       "2               7803       1900                         2   \n",
       "3               6794       1913                         2   \n",
       "4               4615       1900                         2   \n",
       "\n",
       "   building class at time of sale  sale price            sale date  \n",
       "0                              C2     6625000  2017-07-19 00:00:00  \n",
       "1                              C7         -    2016-12-14 00:00:00  \n",
       "2                              C7         -    2016-12-09 00:00:00  \n",
       "3                              C4     3936272  2016-09-23 00:00:00  \n",
       "4                              C2     8000000  2016-11-17 00:00:00  \n",
       "\n",
       "[5 rows x 22 columns]"
      ]
     },
     "execution_count": 7,
     "metadata": {},
     "output_type": "execute_result"
    }
   ],
   "source": [
    "df_nyc['borough'] = df_nyc.borough.replace({1:\"Manhattan\", 2:\"Bronx\", 3:\"Brooklyn\", 4:\"Queens\", 5:\"Staten Island\"})\n",
    "df_nyc.head()"
   ]
  },
  {
   "cell_type": "markdown",
   "id": "d9a478f6",
   "metadata": {},
   "source": [
    "**Hapus kolom yang sekiranya tidak diperlukan**"
   ]
  },
  {
   "cell_type": "code",
   "execution_count": 8,
   "id": "291dec85",
   "metadata": {},
   "outputs": [
    {
     "data": {
      "text/html": [
       "<div>\n",
       "<style scoped>\n",
       "    .dataframe tbody tr th:only-of-type {\n",
       "        vertical-align: middle;\n",
       "    }\n",
       "\n",
       "    .dataframe tbody tr th {\n",
       "        vertical-align: top;\n",
       "    }\n",
       "\n",
       "    .dataframe thead th {\n",
       "        text-align: right;\n",
       "    }\n",
       "</style>\n",
       "<table border=\"1\" class=\"dataframe\">\n",
       "  <thead>\n",
       "    <tr style=\"text-align: right;\">\n",
       "      <th></th>\n",
       "      <th>borough</th>\n",
       "      <th>neighborhood</th>\n",
       "      <th>building class category</th>\n",
       "      <th>apartment number</th>\n",
       "      <th>zip code</th>\n",
       "      <th>residential units</th>\n",
       "      <th>commercial units</th>\n",
       "      <th>total units</th>\n",
       "      <th>land square feet</th>\n",
       "      <th>gross square feet</th>\n",
       "      <th>year built</th>\n",
       "      <th>tax class at time of sale</th>\n",
       "      <th>building class at time of sale</th>\n",
       "      <th>sale price</th>\n",
       "      <th>sale date</th>\n",
       "    </tr>\n",
       "  </thead>\n",
       "  <tbody>\n",
       "    <tr>\n",
       "      <th>0</th>\n",
       "      <td>Manhattan</td>\n",
       "      <td>ALPHABET CITY</td>\n",
       "      <td>07 RENTALS - WALKUP APARTMENTS</td>\n",
       "      <td></td>\n",
       "      <td>10009</td>\n",
       "      <td>5</td>\n",
       "      <td>0</td>\n",
       "      <td>5</td>\n",
       "      <td>1633</td>\n",
       "      <td>6440</td>\n",
       "      <td>1900</td>\n",
       "      <td>2</td>\n",
       "      <td>C2</td>\n",
       "      <td>6625000</td>\n",
       "      <td>2017-07-19 00:00:00</td>\n",
       "    </tr>\n",
       "    <tr>\n",
       "      <th>1</th>\n",
       "      <td>Manhattan</td>\n",
       "      <td>ALPHABET CITY</td>\n",
       "      <td>07 RENTALS - WALKUP APARTMENTS</td>\n",
       "      <td></td>\n",
       "      <td>10009</td>\n",
       "      <td>28</td>\n",
       "      <td>3</td>\n",
       "      <td>31</td>\n",
       "      <td>4616</td>\n",
       "      <td>18690</td>\n",
       "      <td>1900</td>\n",
       "      <td>2</td>\n",
       "      <td>C7</td>\n",
       "      <td>-</td>\n",
       "      <td>2016-12-14 00:00:00</td>\n",
       "    </tr>\n",
       "    <tr>\n",
       "      <th>2</th>\n",
       "      <td>Manhattan</td>\n",
       "      <td>ALPHABET CITY</td>\n",
       "      <td>07 RENTALS - WALKUP APARTMENTS</td>\n",
       "      <td></td>\n",
       "      <td>10009</td>\n",
       "      <td>16</td>\n",
       "      <td>1</td>\n",
       "      <td>17</td>\n",
       "      <td>2212</td>\n",
       "      <td>7803</td>\n",
       "      <td>1900</td>\n",
       "      <td>2</td>\n",
       "      <td>C7</td>\n",
       "      <td>-</td>\n",
       "      <td>2016-12-09 00:00:00</td>\n",
       "    </tr>\n",
       "    <tr>\n",
       "      <th>3</th>\n",
       "      <td>Manhattan</td>\n",
       "      <td>ALPHABET CITY</td>\n",
       "      <td>07 RENTALS - WALKUP APARTMENTS</td>\n",
       "      <td></td>\n",
       "      <td>10009</td>\n",
       "      <td>10</td>\n",
       "      <td>0</td>\n",
       "      <td>10</td>\n",
       "      <td>2272</td>\n",
       "      <td>6794</td>\n",
       "      <td>1913</td>\n",
       "      <td>2</td>\n",
       "      <td>C4</td>\n",
       "      <td>3936272</td>\n",
       "      <td>2016-09-23 00:00:00</td>\n",
       "    </tr>\n",
       "    <tr>\n",
       "      <th>4</th>\n",
       "      <td>Manhattan</td>\n",
       "      <td>ALPHABET CITY</td>\n",
       "      <td>07 RENTALS - WALKUP APARTMENTS</td>\n",
       "      <td></td>\n",
       "      <td>10009</td>\n",
       "      <td>6</td>\n",
       "      <td>0</td>\n",
       "      <td>6</td>\n",
       "      <td>2369</td>\n",
       "      <td>4615</td>\n",
       "      <td>1900</td>\n",
       "      <td>2</td>\n",
       "      <td>C2</td>\n",
       "      <td>8000000</td>\n",
       "      <td>2016-11-17 00:00:00</td>\n",
       "    </tr>\n",
       "    <tr>\n",
       "      <th>...</th>\n",
       "      <td>...</td>\n",
       "      <td>...</td>\n",
       "      <td>...</td>\n",
       "      <td>...</td>\n",
       "      <td>...</td>\n",
       "      <td>...</td>\n",
       "      <td>...</td>\n",
       "      <td>...</td>\n",
       "      <td>...</td>\n",
       "      <td>...</td>\n",
       "      <td>...</td>\n",
       "      <td>...</td>\n",
       "      <td>...</td>\n",
       "      <td>...</td>\n",
       "      <td>...</td>\n",
       "    </tr>\n",
       "    <tr>\n",
       "      <th>84543</th>\n",
       "      <td>Staten Island</td>\n",
       "      <td>WOODROW</td>\n",
       "      <td>02 TWO FAMILY DWELLINGS</td>\n",
       "      <td></td>\n",
       "      <td>10309</td>\n",
       "      <td>2</td>\n",
       "      <td>0</td>\n",
       "      <td>2</td>\n",
       "      <td>2400</td>\n",
       "      <td>2575</td>\n",
       "      <td>1998</td>\n",
       "      <td>1</td>\n",
       "      <td>B9</td>\n",
       "      <td>450000</td>\n",
       "      <td>2016-11-28 00:00:00</td>\n",
       "    </tr>\n",
       "    <tr>\n",
       "      <th>84544</th>\n",
       "      <td>Staten Island</td>\n",
       "      <td>WOODROW</td>\n",
       "      <td>02 TWO FAMILY DWELLINGS</td>\n",
       "      <td></td>\n",
       "      <td>10309</td>\n",
       "      <td>2</td>\n",
       "      <td>0</td>\n",
       "      <td>2</td>\n",
       "      <td>2498</td>\n",
       "      <td>2377</td>\n",
       "      <td>1998</td>\n",
       "      <td>1</td>\n",
       "      <td>B9</td>\n",
       "      <td>550000</td>\n",
       "      <td>2017-04-21 00:00:00</td>\n",
       "    </tr>\n",
       "    <tr>\n",
       "      <th>84545</th>\n",
       "      <td>Staten Island</td>\n",
       "      <td>WOODROW</td>\n",
       "      <td>02 TWO FAMILY DWELLINGS</td>\n",
       "      <td></td>\n",
       "      <td>10309</td>\n",
       "      <td>2</td>\n",
       "      <td>0</td>\n",
       "      <td>2</td>\n",
       "      <td>4000</td>\n",
       "      <td>1496</td>\n",
       "      <td>1925</td>\n",
       "      <td>1</td>\n",
       "      <td>B2</td>\n",
       "      <td>460000</td>\n",
       "      <td>2017-07-05 00:00:00</td>\n",
       "    </tr>\n",
       "    <tr>\n",
       "      <th>84546</th>\n",
       "      <td>Staten Island</td>\n",
       "      <td>WOODROW</td>\n",
       "      <td>22 STORE BUILDINGS</td>\n",
       "      <td></td>\n",
       "      <td>10309</td>\n",
       "      <td>0</td>\n",
       "      <td>7</td>\n",
       "      <td>7</td>\n",
       "      <td>208033</td>\n",
       "      <td>64117</td>\n",
       "      <td>2001</td>\n",
       "      <td>4</td>\n",
       "      <td>K6</td>\n",
       "      <td>11693337</td>\n",
       "      <td>2016-12-21 00:00:00</td>\n",
       "    </tr>\n",
       "    <tr>\n",
       "      <th>84547</th>\n",
       "      <td>Staten Island</td>\n",
       "      <td>WOODROW</td>\n",
       "      <td>35 INDOOR PUBLIC AND CULTURAL FACILITIES</td>\n",
       "      <td></td>\n",
       "      <td>10309</td>\n",
       "      <td>0</td>\n",
       "      <td>1</td>\n",
       "      <td>1</td>\n",
       "      <td>10796</td>\n",
       "      <td>2400</td>\n",
       "      <td>2006</td>\n",
       "      <td>4</td>\n",
       "      <td>P9</td>\n",
       "      <td>69300</td>\n",
       "      <td>2016-10-27 00:00:00</td>\n",
       "    </tr>\n",
       "  </tbody>\n",
       "</table>\n",
       "<p>84548 rows × 15 columns</p>\n",
       "</div>"
      ],
      "text/plain": [
       "             borough   neighborhood  \\\n",
       "0          Manhattan  ALPHABET CITY   \n",
       "1          Manhattan  ALPHABET CITY   \n",
       "2          Manhattan  ALPHABET CITY   \n",
       "3          Manhattan  ALPHABET CITY   \n",
       "4          Manhattan  ALPHABET CITY   \n",
       "...              ...            ...   \n",
       "84543  Staten Island        WOODROW   \n",
       "84544  Staten Island        WOODROW   \n",
       "84545  Staten Island        WOODROW   \n",
       "84546  Staten Island        WOODROW   \n",
       "84547  Staten Island        WOODROW   \n",
       "\n",
       "                           building class category apartment number  zip code  \\\n",
       "0      07 RENTALS - WALKUP APARTMENTS                                   10009   \n",
       "1      07 RENTALS - WALKUP APARTMENTS                                   10009   \n",
       "2      07 RENTALS - WALKUP APARTMENTS                                   10009   \n",
       "3      07 RENTALS - WALKUP APARTMENTS                                   10009   \n",
       "4      07 RENTALS - WALKUP APARTMENTS                                   10009   \n",
       "...                                            ...              ...       ...   \n",
       "84543  02 TWO FAMILY DWELLINGS                                          10309   \n",
       "84544  02 TWO FAMILY DWELLINGS                                          10309   \n",
       "84545  02 TWO FAMILY DWELLINGS                                          10309   \n",
       "84546  22 STORE BUILDINGS                                               10309   \n",
       "84547  35 INDOOR PUBLIC AND CULTURAL FACILITIES                         10309   \n",
       "\n",
       "       residential units  commercial units  total units land square feet  \\\n",
       "0                      5                 0            5             1633   \n",
       "1                     28                 3           31             4616   \n",
       "2                     16                 1           17             2212   \n",
       "3                     10                 0           10             2272   \n",
       "4                      6                 0            6             2369   \n",
       "...                  ...               ...          ...              ...   \n",
       "84543                  2                 0            2             2400   \n",
       "84544                  2                 0            2             2498   \n",
       "84545                  2                 0            2             4000   \n",
       "84546                  0                 7            7           208033   \n",
       "84547                  0                 1            1            10796   \n",
       "\n",
       "      gross square feet  year built  tax class at time of sale  \\\n",
       "0                  6440        1900                          2   \n",
       "1                 18690        1900                          2   \n",
       "2                  7803        1900                          2   \n",
       "3                  6794        1913                          2   \n",
       "4                  4615        1900                          2   \n",
       "...                 ...         ...                        ...   \n",
       "84543              2575        1998                          1   \n",
       "84544              2377        1998                          1   \n",
       "84545              1496        1925                          1   \n",
       "84546             64117        2001                          4   \n",
       "84547              2400        2006                          4   \n",
       "\n",
       "      building class at time of sale sale price            sale date  \n",
       "0                                 C2    6625000  2017-07-19 00:00:00  \n",
       "1                                 C7        -    2016-12-14 00:00:00  \n",
       "2                                 C7        -    2016-12-09 00:00:00  \n",
       "3                                 C4    3936272  2016-09-23 00:00:00  \n",
       "4                                 C2    8000000  2016-11-17 00:00:00  \n",
       "...                              ...        ...                  ...  \n",
       "84543                             B9     450000  2016-11-28 00:00:00  \n",
       "84544                             B9     550000  2017-04-21 00:00:00  \n",
       "84545                             B2     460000  2017-07-05 00:00:00  \n",
       "84546                             K6   11693337  2016-12-21 00:00:00  \n",
       "84547                             P9      69300  2016-10-27 00:00:00  \n",
       "\n",
       "[84548 rows x 15 columns]"
      ]
     },
     "execution_count": 8,
     "metadata": {},
     "output_type": "execute_result"
    }
   ],
   "source": [
    "df_nyc.drop(['unnamed: 0','tax class at present','block','lot','ease-ment','building class at present','address'], axis=1, inplace=True)\n",
    "df_nyc"
   ]
  },
  {
   "cell_type": "code",
   "execution_count": 9,
   "id": "80e53416",
   "metadata": {},
   "outputs": [
    {
     "data": {
      "text/html": [
       "<div>\n",
       "<style scoped>\n",
       "    .dataframe tbody tr th:only-of-type {\n",
       "        vertical-align: middle;\n",
       "    }\n",
       "\n",
       "    .dataframe tbody tr th {\n",
       "        vertical-align: top;\n",
       "    }\n",
       "\n",
       "    .dataframe thead th {\n",
       "        text-align: right;\n",
       "    }\n",
       "</style>\n",
       "<table border=\"1\" class=\"dataframe\">\n",
       "  <thead>\n",
       "    <tr style=\"text-align: right;\">\n",
       "      <th></th>\n",
       "      <th>borough</th>\n",
       "      <th>neighborhood</th>\n",
       "      <th>building class category</th>\n",
       "      <th>residential units</th>\n",
       "      <th>commercial units</th>\n",
       "      <th>total units</th>\n",
       "      <th>land square feet</th>\n",
       "      <th>gross square feet</th>\n",
       "      <th>year built</th>\n",
       "      <th>sale price</th>\n",
       "      <th>sale date</th>\n",
       "    </tr>\n",
       "  </thead>\n",
       "  <tbody>\n",
       "    <tr>\n",
       "      <th>0</th>\n",
       "      <td>Manhattan</td>\n",
       "      <td>ALPHABET CITY</td>\n",
       "      <td>07 RENTALS - WALKUP APARTMENTS</td>\n",
       "      <td>5</td>\n",
       "      <td>0</td>\n",
       "      <td>5</td>\n",
       "      <td>1633</td>\n",
       "      <td>6440</td>\n",
       "      <td>1900</td>\n",
       "      <td>6625000</td>\n",
       "      <td>2017-07-19 00:00:00</td>\n",
       "    </tr>\n",
       "    <tr>\n",
       "      <th>1</th>\n",
       "      <td>Manhattan</td>\n",
       "      <td>ALPHABET CITY</td>\n",
       "      <td>07 RENTALS - WALKUP APARTMENTS</td>\n",
       "      <td>28</td>\n",
       "      <td>3</td>\n",
       "      <td>31</td>\n",
       "      <td>4616</td>\n",
       "      <td>18690</td>\n",
       "      <td>1900</td>\n",
       "      <td>-</td>\n",
       "      <td>2016-12-14 00:00:00</td>\n",
       "    </tr>\n",
       "    <tr>\n",
       "      <th>2</th>\n",
       "      <td>Manhattan</td>\n",
       "      <td>ALPHABET CITY</td>\n",
       "      <td>07 RENTALS - WALKUP APARTMENTS</td>\n",
       "      <td>16</td>\n",
       "      <td>1</td>\n",
       "      <td>17</td>\n",
       "      <td>2212</td>\n",
       "      <td>7803</td>\n",
       "      <td>1900</td>\n",
       "      <td>-</td>\n",
       "      <td>2016-12-09 00:00:00</td>\n",
       "    </tr>\n",
       "    <tr>\n",
       "      <th>3</th>\n",
       "      <td>Manhattan</td>\n",
       "      <td>ALPHABET CITY</td>\n",
       "      <td>07 RENTALS - WALKUP APARTMENTS</td>\n",
       "      <td>10</td>\n",
       "      <td>0</td>\n",
       "      <td>10</td>\n",
       "      <td>2272</td>\n",
       "      <td>6794</td>\n",
       "      <td>1913</td>\n",
       "      <td>3936272</td>\n",
       "      <td>2016-09-23 00:00:00</td>\n",
       "    </tr>\n",
       "    <tr>\n",
       "      <th>4</th>\n",
       "      <td>Manhattan</td>\n",
       "      <td>ALPHABET CITY</td>\n",
       "      <td>07 RENTALS - WALKUP APARTMENTS</td>\n",
       "      <td>6</td>\n",
       "      <td>0</td>\n",
       "      <td>6</td>\n",
       "      <td>2369</td>\n",
       "      <td>4615</td>\n",
       "      <td>1900</td>\n",
       "      <td>8000000</td>\n",
       "      <td>2016-11-17 00:00:00</td>\n",
       "    </tr>\n",
       "    <tr>\n",
       "      <th>...</th>\n",
       "      <td>...</td>\n",
       "      <td>...</td>\n",
       "      <td>...</td>\n",
       "      <td>...</td>\n",
       "      <td>...</td>\n",
       "      <td>...</td>\n",
       "      <td>...</td>\n",
       "      <td>...</td>\n",
       "      <td>...</td>\n",
       "      <td>...</td>\n",
       "      <td>...</td>\n",
       "    </tr>\n",
       "    <tr>\n",
       "      <th>84543</th>\n",
       "      <td>Staten Island</td>\n",
       "      <td>WOODROW</td>\n",
       "      <td>02 TWO FAMILY DWELLINGS</td>\n",
       "      <td>2</td>\n",
       "      <td>0</td>\n",
       "      <td>2</td>\n",
       "      <td>2400</td>\n",
       "      <td>2575</td>\n",
       "      <td>1998</td>\n",
       "      <td>450000</td>\n",
       "      <td>2016-11-28 00:00:00</td>\n",
       "    </tr>\n",
       "    <tr>\n",
       "      <th>84544</th>\n",
       "      <td>Staten Island</td>\n",
       "      <td>WOODROW</td>\n",
       "      <td>02 TWO FAMILY DWELLINGS</td>\n",
       "      <td>2</td>\n",
       "      <td>0</td>\n",
       "      <td>2</td>\n",
       "      <td>2498</td>\n",
       "      <td>2377</td>\n",
       "      <td>1998</td>\n",
       "      <td>550000</td>\n",
       "      <td>2017-04-21 00:00:00</td>\n",
       "    </tr>\n",
       "    <tr>\n",
       "      <th>84545</th>\n",
       "      <td>Staten Island</td>\n",
       "      <td>WOODROW</td>\n",
       "      <td>02 TWO FAMILY DWELLINGS</td>\n",
       "      <td>2</td>\n",
       "      <td>0</td>\n",
       "      <td>2</td>\n",
       "      <td>4000</td>\n",
       "      <td>1496</td>\n",
       "      <td>1925</td>\n",
       "      <td>460000</td>\n",
       "      <td>2017-07-05 00:00:00</td>\n",
       "    </tr>\n",
       "    <tr>\n",
       "      <th>84546</th>\n",
       "      <td>Staten Island</td>\n",
       "      <td>WOODROW</td>\n",
       "      <td>22 STORE BUILDINGS</td>\n",
       "      <td>0</td>\n",
       "      <td>7</td>\n",
       "      <td>7</td>\n",
       "      <td>208033</td>\n",
       "      <td>64117</td>\n",
       "      <td>2001</td>\n",
       "      <td>11693337</td>\n",
       "      <td>2016-12-21 00:00:00</td>\n",
       "    </tr>\n",
       "    <tr>\n",
       "      <th>84547</th>\n",
       "      <td>Staten Island</td>\n",
       "      <td>WOODROW</td>\n",
       "      <td>35 INDOOR PUBLIC AND CULTURAL FACILITIES</td>\n",
       "      <td>0</td>\n",
       "      <td>1</td>\n",
       "      <td>1</td>\n",
       "      <td>10796</td>\n",
       "      <td>2400</td>\n",
       "      <td>2006</td>\n",
       "      <td>69300</td>\n",
       "      <td>2016-10-27 00:00:00</td>\n",
       "    </tr>\n",
       "  </tbody>\n",
       "</table>\n",
       "<p>84548 rows × 11 columns</p>\n",
       "</div>"
      ],
      "text/plain": [
       "             borough   neighborhood  \\\n",
       "0          Manhattan  ALPHABET CITY   \n",
       "1          Manhattan  ALPHABET CITY   \n",
       "2          Manhattan  ALPHABET CITY   \n",
       "3          Manhattan  ALPHABET CITY   \n",
       "4          Manhattan  ALPHABET CITY   \n",
       "...              ...            ...   \n",
       "84543  Staten Island        WOODROW   \n",
       "84544  Staten Island        WOODROW   \n",
       "84545  Staten Island        WOODROW   \n",
       "84546  Staten Island        WOODROW   \n",
       "84547  Staten Island        WOODROW   \n",
       "\n",
       "                           building class category  residential units  \\\n",
       "0      07 RENTALS - WALKUP APARTMENTS                               5   \n",
       "1      07 RENTALS - WALKUP APARTMENTS                              28   \n",
       "2      07 RENTALS - WALKUP APARTMENTS                              16   \n",
       "3      07 RENTALS - WALKUP APARTMENTS                              10   \n",
       "4      07 RENTALS - WALKUP APARTMENTS                               6   \n",
       "...                                            ...                ...   \n",
       "84543  02 TWO FAMILY DWELLINGS                                      2   \n",
       "84544  02 TWO FAMILY DWELLINGS                                      2   \n",
       "84545  02 TWO FAMILY DWELLINGS                                      2   \n",
       "84546  22 STORE BUILDINGS                                           0   \n",
       "84547  35 INDOOR PUBLIC AND CULTURAL FACILITIES                     0   \n",
       "\n",
       "       commercial units  total units land square feet gross square feet  \\\n",
       "0                     0            5             1633              6440   \n",
       "1                     3           31             4616             18690   \n",
       "2                     1           17             2212              7803   \n",
       "3                     0           10             2272              6794   \n",
       "4                     0            6             2369              4615   \n",
       "...                 ...          ...              ...               ...   \n",
       "84543                 0            2             2400              2575   \n",
       "84544                 0            2             2498              2377   \n",
       "84545                 0            2             4000              1496   \n",
       "84546                 7            7           208033             64117   \n",
       "84547                 1            1            10796              2400   \n",
       "\n",
       "       year built sale price            sale date  \n",
       "0            1900    6625000  2017-07-19 00:00:00  \n",
       "1            1900        -    2016-12-14 00:00:00  \n",
       "2            1900        -    2016-12-09 00:00:00  \n",
       "3            1913    3936272  2016-09-23 00:00:00  \n",
       "4            1900    8000000  2016-11-17 00:00:00  \n",
       "...           ...        ...                  ...  \n",
       "84543        1998     450000  2016-11-28 00:00:00  \n",
       "84544        1998     550000  2017-04-21 00:00:00  \n",
       "84545        1925     460000  2017-07-05 00:00:00  \n",
       "84546        2001   11693337  2016-12-21 00:00:00  \n",
       "84547        2006      69300  2016-10-27 00:00:00  \n",
       "\n",
       "[84548 rows x 11 columns]"
      ]
     },
     "execution_count": 9,
     "metadata": {},
     "output_type": "execute_result"
    }
   ],
   "source": [
    "df_nyc.drop(['apartment number','zip code','tax class at time of sale','building class at time of sale'], axis=1, inplace=True)\n",
    "df_nyc"
   ]
  },
  {
   "cell_type": "markdown",
   "id": "29bc1270",
   "metadata": {},
   "source": [
    "# F. Data cleaning\n",
    "Data cleaning merupakan proses menyiapkan data dengan cara menghapus atau memodifikasi data yang salah, tidak relevan, tidak akurat, duplikat, maupun yang tidak terformat."
   ]
  },
  {
   "cell_type": "code",
   "execution_count": 10,
   "id": "a5633442",
   "metadata": {},
   "outputs": [
    {
     "data": {
      "text/plain": [
       "borough                    0\n",
       "neighborhood               0\n",
       "building class category    0\n",
       "residential units          0\n",
       "commercial units           0\n",
       "total units                0\n",
       "land square feet           0\n",
       "gross square feet          0\n",
       "year built                 0\n",
       "sale price                 0\n",
       "sale date                  0\n",
       "dtype: int64"
      ]
     },
     "execution_count": 10,
     "metadata": {},
     "output_type": "execute_result"
    }
   ],
   "source": [
    "#Cek adanya nilai Nan pada data\n",
    "df_nyc.isna().sum()"
   ]
  },
  {
   "cell_type": "code",
   "execution_count": 11,
   "id": "de5a2617",
   "metadata": {},
   "outputs": [
    {
     "data": {
      "text/plain": [
       "2827"
      ]
     },
     "execution_count": 11,
     "metadata": {},
     "output_type": "execute_result"
    }
   ],
   "source": [
    "#Cek adakah data yang terduplikat\n",
    "df_nyc.duplicated().sum()"
   ]
  },
  {
   "cell_type": "code",
   "execution_count": 12,
   "id": "8f70638c",
   "metadata": {
    "scrolled": true
   },
   "outputs": [
    {
     "data": {
      "text/plain": [
       "borough                    object\n",
       "neighborhood               object\n",
       "building class category    object\n",
       "residential units           int64\n",
       "commercial units            int64\n",
       "total units                 int64\n",
       "land square feet           object\n",
       "gross square feet          object\n",
       "year built                  int64\n",
       "sale price                 object\n",
       "sale date                  object\n",
       "dtype: object"
      ]
     },
     "execution_count": 12,
     "metadata": {},
     "output_type": "execute_result"
    }
   ],
   "source": [
    "#Cek data dtype\n",
    "df_nyc.dtypes"
   ]
  },
  {
   "cell_type": "markdown",
   "id": "3deb8de1",
   "metadata": {},
   "source": [
    "Diperhatikan bahwa ada beberapa data type yang sedikit tidak sesuai, yaitu :\n",
    "- data type Sale date akan diubah menjadi date time\n",
    "- data type land square feet, gross square feet, dan sale price akan diubah menjadi int64"
   ]
  },
  {
   "cell_type": "code",
   "execution_count": 13,
   "id": "2f63c902",
   "metadata": {},
   "outputs": [
    {
     "name": "stdout",
     "output_type": "stream",
     "text": [
      "borough                            object\n",
      "neighborhood                       object\n",
      "building class category            object\n",
      "residential units                   int64\n",
      "commercial units                    int64\n",
      "total units                         int64\n",
      "land square feet                    int64\n",
      "gross square feet                   int64\n",
      "year built                          int64\n",
      "sale price                          int64\n",
      "sale date                  datetime64[ns]\n",
      "dtype: object\n"
     ]
    }
   ],
   "source": [
    "df_nyc['sale date'] = pd.to_datetime(df_nyc['sale date'])\n",
    "cols_to_convert = ['land square feet','gross square feet','sale price']\n",
    "for col in cols_to_convert:\n",
    "    df_nyc[col] = pd.to_numeric(df_nyc[col], errors='coerce').fillna(0).astype('int64')\n",
    "print(df_nyc.dtypes)"
   ]
  },
  {
   "cell_type": "markdown",
   "id": "5de641c5",
   "metadata": {},
   "source": [
    "# Measure of Central Tendency\n",
    "- Mean <br>\n",
    "Mean merupakan nilai rata-rata dari sebuah data.\n",
    "- Median <br>\n",
    "Median merupakan nilai tengah dari data setelah diurutkan dari terkecil ke terbesar. <br>\n",
    "- Modus/mode <br>\n",
    "Modus merupakan nilai yang paling banyak mucul dalam sebuah data."
   ]
  },
  {
   "cell_type": "code",
   "execution_count": 14,
   "id": "c79ad8af",
   "metadata": {},
   "outputs": [
    {
     "data": {
      "text/html": [
       "<div>\n",
       "<style scoped>\n",
       "    .dataframe tbody tr th:only-of-type {\n",
       "        vertical-align: middle;\n",
       "    }\n",
       "\n",
       "    .dataframe tbody tr th {\n",
       "        vertical-align: top;\n",
       "    }\n",
       "\n",
       "    .dataframe thead th {\n",
       "        text-align: right;\n",
       "    }\n",
       "</style>\n",
       "<table border=\"1\" class=\"dataframe\">\n",
       "  <thead>\n",
       "    <tr style=\"text-align: right;\">\n",
       "      <th></th>\n",
       "      <th>residential units</th>\n",
       "      <th>commercial units</th>\n",
       "    </tr>\n",
       "  </thead>\n",
       "  <tbody>\n",
       "    <tr>\n",
       "      <th>0</th>\n",
       "      <td>5</td>\n",
       "      <td>0</td>\n",
       "    </tr>\n",
       "    <tr>\n",
       "      <th>1</th>\n",
       "      <td>28</td>\n",
       "      <td>3</td>\n",
       "    </tr>\n",
       "    <tr>\n",
       "      <th>2</th>\n",
       "      <td>16</td>\n",
       "      <td>1</td>\n",
       "    </tr>\n",
       "    <tr>\n",
       "      <th>3</th>\n",
       "      <td>10</td>\n",
       "      <td>0</td>\n",
       "    </tr>\n",
       "    <tr>\n",
       "      <th>4</th>\n",
       "      <td>6</td>\n",
       "      <td>0</td>\n",
       "    </tr>\n",
       "    <tr>\n",
       "      <th>...</th>\n",
       "      <td>...</td>\n",
       "      <td>...</td>\n",
       "    </tr>\n",
       "    <tr>\n",
       "      <th>84543</th>\n",
       "      <td>2</td>\n",
       "      <td>0</td>\n",
       "    </tr>\n",
       "    <tr>\n",
       "      <th>84544</th>\n",
       "      <td>2</td>\n",
       "      <td>0</td>\n",
       "    </tr>\n",
       "    <tr>\n",
       "      <th>84545</th>\n",
       "      <td>2</td>\n",
       "      <td>0</td>\n",
       "    </tr>\n",
       "    <tr>\n",
       "      <th>84546</th>\n",
       "      <td>0</td>\n",
       "      <td>7</td>\n",
       "    </tr>\n",
       "    <tr>\n",
       "      <th>84547</th>\n",
       "      <td>0</td>\n",
       "      <td>1</td>\n",
       "    </tr>\n",
       "  </tbody>\n",
       "</table>\n",
       "<p>84548 rows × 2 columns</p>\n",
       "</div>"
      ],
      "text/plain": [
       "       residential units  commercial units\n",
       "0                      5                 0\n",
       "1                     28                 3\n",
       "2                     16                 1\n",
       "3                     10                 0\n",
       "4                      6                 0\n",
       "...                  ...               ...\n",
       "84543                  2                 0\n",
       "84544                  2                 0\n",
       "84545                  2                 0\n",
       "84546                  0                 7\n",
       "84547                  0                 1\n",
       "\n",
       "[84548 rows x 2 columns]"
      ]
     },
     "execution_count": 14,
     "metadata": {},
     "output_type": "execute_result"
    }
   ],
   "source": [
    "a = df_nyc.iloc[0:, 3:5]\n",
    "a"
   ]
  },
  {
   "cell_type": "markdown",
   "id": "d91bc130",
   "metadata": {},
   "source": [
    "Pada dataset yang diberikan, diambil data pada kolom 'residential units' dan 'commercial units'. Selanjutnya, data tersebut dikelompokkan sendiri untuk ditemukan nilai mean, median, dan modusnya."
   ]
  },
  {
   "cell_type": "code",
   "execution_count": 15,
   "id": "04fda6a1",
   "metadata": {},
   "outputs": [
    {
     "name": "stdout",
     "output_type": "stream",
     "text": [
      "       residential units\n",
      "0                      5\n",
      "1                     28\n",
      "2                     16\n",
      "3                     10\n",
      "4                      6\n",
      "...                  ...\n",
      "84543                  2\n",
      "84544                  2\n",
      "84545                  2\n",
      "84546                  0\n",
      "84547                  0\n",
      "\n",
      "[84548 rows x 1 columns]\n",
      "       commercial units\n",
      "0                     0\n",
      "1                     3\n",
      "2                     1\n",
      "3                     0\n",
      "4                     0\n",
      "...                 ...\n",
      "84543                 0\n",
      "84544                 0\n",
      "84545                 0\n",
      "84546                 7\n",
      "84547                 1\n",
      "\n",
      "[84548 rows x 1 columns]\n"
     ]
    }
   ],
   "source": [
    "a_1 = a.iloc[:, :1]\n",
    "a_2 = a.iloc[:, 1:]\n",
    "print(a_1)\n",
    "print(a_2)"
   ]
  },
  {
   "cell_type": "code",
   "execution_count": 16,
   "id": "36e09ddf",
   "metadata": {},
   "outputs": [
    {
     "name": "stdout",
     "output_type": "stream",
     "text": [
      "residential units    2.025264\n",
      "dtype: float64\n",
      "commercial units    0.193559\n",
      "dtype: float64\n"
     ]
    },
    {
     "name": "stderr",
     "output_type": "stream",
     "text": [
      "C:\\Users\\Axioo\\anaconda3\\lib\\site-packages\\numpy\\core\\fromnumeric.py:3438: FutureWarning: In a future version, DataFrame.mean(axis=None) will return a scalar mean over the entire DataFrame. To retain the old behavior, use 'frame.mean(axis=0)' or just 'frame.mean()'\n",
      "  return mean(axis=axis, dtype=dtype, out=out, **kwargs)\n"
     ]
    }
   ],
   "source": [
    "a_11 = np.mean(a_1)\n",
    "a_21 = np.mean(a_2)\n",
    "\n",
    "print(a_11)\n",
    "print(a_21)"
   ]
  },
  {
   "cell_type": "code",
   "execution_count": 17,
   "id": "f78b449d",
   "metadata": {},
   "outputs": [
    {
     "name": "stdout",
     "output_type": "stream",
     "text": [
      "1.0\n",
      "0.0\n"
     ]
    }
   ],
   "source": [
    "a_12 = np.median(a_1)\n",
    "a_22 = np.median(a_2)\n",
    "\n",
    "print(a_12)\n",
    "print(a_22)"
   ]
  },
  {
   "cell_type": "code",
   "execution_count": 18,
   "id": "54000123",
   "metadata": {},
   "outputs": [
    {
     "name": "stdout",
     "output_type": "stream",
     "text": [
      "ModeResult(mode=array([[1]], dtype=int64), count=array([[34722]]))\n",
      "ModeResult(mode=array([[0]], dtype=int64), count=array([[79429]]))\n"
     ]
    },
    {
     "name": "stderr",
     "output_type": "stream",
     "text": [
      "C:\\Users\\Axioo\\AppData\\Local\\Temp\\ipykernel_6812\\3972545045.py:1: FutureWarning: Unlike other reduction functions (e.g. `skew`, `kurtosis`), the default behavior of `mode` typically preserves the axis it acts along. In SciPy 1.11.0, this behavior will change: the default value of `keepdims` will become False, the `axis` over which the statistic is taken will be eliminated, and the value None will no longer be accepted. Set `keepdims` to True or False to avoid this warning.\n",
      "  a_13 = scipy.stats.mode(a_1)\n",
      "C:\\Users\\Axioo\\AppData\\Local\\Temp\\ipykernel_6812\\3972545045.py:2: FutureWarning: Unlike other reduction functions (e.g. `skew`, `kurtosis`), the default behavior of `mode` typically preserves the axis it acts along. In SciPy 1.11.0, this behavior will change: the default value of `keepdims` will become False, the `axis` over which the statistic is taken will be eliminated, and the value None will no longer be accepted. Set `keepdims` to True or False to avoid this warning.\n",
      "  a_23 = scipy.stats.mode(a_2)\n"
     ]
    }
   ],
   "source": [
    "a_13 = scipy.stats.mode(a_1)\n",
    "a_23 = scipy.stats.mode(a_2)\n",
    "\n",
    "print(a_13)\n",
    "print(a_23)"
   ]
  },
  {
   "cell_type": "markdown",
   "id": "11282972",
   "metadata": {},
   "source": [
    "Dengan demikian, diperoleh persebaran data sebagai berikut.\n",
    "- Residential unit <br>\n",
    "Residential unit memiliki jumlah data unit terbanyak pada jumlah $1$ unit dengan jumlah data tersebut sebanyak $34722$ buah, memiliki nilai tengah dari data pada nilai $1$ unit, dan memiliki nilai rata-rata $2.025264 \\approx 2$. <br>\n",
    "- Commercial unit <br>\n",
    "Commercial unit memiliki jumlah data unit terbanyak pada jumlah $0$ unit dengan jumlah data tersebut sebanyak $79429$ buah, memiliki nilai tengah dari data pada nilai $0$ unit, dan memiliki nilai rata-rata $ 0.193559 \\approx 0$."
   ]
  },
  {
   "cell_type": "markdown",
   "id": "2eec29ec",
   "metadata": {},
   "source": [
    "# Measure of Spread\n",
    "- Range\n",
    "Range merupakan jarak antara nilai terbesar dengan nilai terkecil pada sebuah data.\n",
    "- Standard deviasi\n",
    "Standar deviasi merupakan pengukuran jarak rata-rata, memiliki nama lain berupa simpangan baku, dan biasa disimbolkan dengan $\\sigma$.\n",
    "- Variansi\n",
    "Variansi merupakan kuadrat dari jarak rata-rata atau dengan kata lain kuadrat dari standar deviasi sehingga dapat disimbolkan dengan $\\sigma^{2}$."
   ]
  },
  {
   "cell_type": "code",
   "execution_count": 19,
   "id": "49e76ff8",
   "metadata": {},
   "outputs": [
    {
     "name": "stdout",
     "output_type": "stream",
     "text": [
      "       residential units\n",
      "0                      5\n",
      "1                     28\n",
      "2                     16\n",
      "3                     10\n",
      "4                      6\n",
      "...                  ...\n",
      "84543                  2\n",
      "84544                  2\n",
      "84545                  2\n",
      "84546                  0\n",
      "84547                  0\n",
      "\n",
      "[84548 rows x 1 columns]\n",
      "       commercial units\n",
      "0                     0\n",
      "1                     3\n",
      "2                     1\n",
      "3                     0\n",
      "4                     0\n",
      "...                 ...\n",
      "84543                 0\n",
      "84544                 0\n",
      "84545                 0\n",
      "84546                 7\n",
      "84547                 1\n",
      "\n",
      "[84548 rows x 1 columns]\n"
     ]
    }
   ],
   "source": [
    "a_1 = a.iloc[:, :1]\n",
    "a_2 = a.iloc[:, 1:]\n",
    "print(a_1)\n",
    "print(a_2)"
   ]
  },
  {
   "cell_type": "markdown",
   "id": "435b799a",
   "metadata": {},
   "source": [
    "Panggil kembali variabel a_1 dan a_2 dengan tujuan agar data tersebut digunakan dalam pencarian range, standar deviasi, dan variansinya."
   ]
  },
  {
   "cell_type": "code",
   "execution_count": 20,
   "id": "11c8f019",
   "metadata": {},
   "outputs": [
    {
     "name": "stdout",
     "output_type": "stream",
     "text": [
      "Range dari residential units    1844\n",
      "dtype: int64\n"
     ]
    }
   ],
   "source": [
    "b_11 = a_1.min()\n",
    "b_12 = a_1.max()\n",
    "b_13 = b_12 - b_11\n",
    "\n",
    "print('Range dari', b_13)"
   ]
  },
  {
   "cell_type": "code",
   "execution_count": 21,
   "id": "d4661391",
   "metadata": {},
   "outputs": [
    {
     "name": "stdout",
     "output_type": "stream",
     "text": [
      "Standar deviasi residential units    16.721037\n",
      "dtype: float64\n",
      "Variansi residential units    279.593079\n",
      "dtype: float64\n"
     ]
    }
   ],
   "source": [
    "b_14 = np.std(a_1,ddof=1)\n",
    "b_15 = np.var(a_1,ddof=1)\n",
    "\n",
    "print('Standar deviasi', b_14)\n",
    "print('Variansi', b_15)"
   ]
  },
  {
   "cell_type": "code",
   "execution_count": 22,
   "id": "e6337812",
   "metadata": {},
   "outputs": [
    {
     "name": "stdout",
     "output_type": "stream",
     "text": [
      "Range dari commercial units    2261\n",
      "dtype: int64\n"
     ]
    }
   ],
   "source": [
    "b_21 = a_2.min()\n",
    "b_22 = a_2.max()\n",
    "b_23 = b_22 - b_21\n",
    "\n",
    "print('Range dari', b_23)"
   ]
  },
  {
   "cell_type": "code",
   "execution_count": 23,
   "id": "abf08948",
   "metadata": {},
   "outputs": [
    {
     "name": "stdout",
     "output_type": "stream",
     "text": [
      "Standar deviasi commercial units    8.713183\n",
      "dtype: float64\n",
      "Variansi commercial units    75.919564\n",
      "dtype: float64\n"
     ]
    }
   ],
   "source": [
    "b_24 = np.std(a_2,ddof=1)\n",
    "b_25 = np.var(a_2,ddof=1)\n",
    "\n",
    "print('Standar deviasi', b_24)\n",
    "print('Variansi', b_25)"
   ]
  },
  {
   "cell_type": "markdown",
   "id": "ddc16840",
   "metadata": {},
   "source": [
    "Dengan demikian, diperoleh persebaran data sebagai berikut.\n",
    "- Residential unit <br>\n",
    "Residential unit memiliki range data sebesar $1844$ unit dengan jumlah standar deviasi data tersebut ialah senilai $16.721037$, sehingga memiliki nilai variansi sejumlah $279.593079$. <br>\n",
    "- Commercial unit <br>\n",
    "Commercial unit memiliki range data sebesar $2261$ unit dengan jumlah standar deviasi data tersebut ialah senilai $8.713183$, sehingga memiliki nilai variansi sejumlah $75.919564$."
   ]
  },
  {
   "cell_type": "markdown",
   "id": "70af45d4",
   "metadata": {},
   "source": [
    "# Probability Distribution"
   ]
  },
  {
   "cell_type": "markdown",
   "id": "3bb3e254",
   "metadata": {},
   "source": [
    "- Uniform Distribution <br>\n",
    "Rumus fungsi data berdistribusi uniform sebagai berikut. <br>\n",
    "$f(x) = \\begin{cases}\n",
    "\\frac{1}{b-a}, \\hspace{0.4cm} a \\leq x \\leq b \\\\\n",
    "0, \\hspace{0.7cm} other.\n",
    "\\end{cases}$"
   ]
  },
  {
   "cell_type": "code",
   "execution_count": 24,
   "id": "a1a33326",
   "metadata": {},
   "outputs": [
    {
     "name": "stderr",
     "output_type": "stream",
     "text": [
      "C:\\Users\\Axioo\\anaconda3\\lib\\site-packages\\seaborn\\distributions.py:2619: FutureWarning: `distplot` is a deprecated function and will be removed in a future version. Please adapt your code to use either `displot` (a figure-level function with similar flexibility) or `histplot` (an axes-level function for histograms).\n",
      "  warnings.warn(msg, FutureWarning)\n"
     ]
    },
    {
     "data": {
      "image/png": "[encoded data removed]",
      "text/plain": [
       "<Figure size 640x480 with 1 Axes>"
      ]
     },
     "metadata": {},
     "output_type": "display_data"
    }
   ],
   "source": [
    "from scipy.stats import uniform\n",
    "c_1 = uniform.rvs(size=280, loc=2, scale=16)\n",
    "sns.distplot(c_1)\n",
    "plt.xlabel('Uniform Distribution berdasarkan a_1')\n",
    "plt.ylabel('Frequency')\n",
    "plt.show()"
   ]
  },
  {
   "cell_type": "markdown",
   "id": "773e857d",
   "metadata": {},
   "source": [
    "Argumen loc sesuai dengan mean $(\\mu)$, scale sesuai dengan standard deviasi $(\\sigma)$, dan size jumlah variasi acak."
   ]
  },
  {
   "cell_type": "markdown",
   "id": "e12e527b",
   "metadata": {},
   "source": [
    "- Normal Distribution <br> \n",
    "Rumus fungsi data berdistribusi normal sebagai berikut. <br>\n",
    "$f(x) = \\frac{1}{\\sigma\\sqrt{2\\pi}}e^{-\\frac{(x-\\mu)^{2}}{2\\sigma^{2}}}$."
   ]
  },
  {
   "cell_type": "code",
   "execution_count": 25,
   "id": "0ccc7c06",
   "metadata": {},
   "outputs": [
    {
     "name": "stderr",
     "output_type": "stream",
     "text": [
      "C:\\Users\\Axioo\\anaconda3\\lib\\site-packages\\seaborn\\distributions.py:2619: FutureWarning: `distplot` is a deprecated function and will be removed in a future version. Please adapt your code to use either `displot` (a figure-level function with similar flexibility) or `histplot` (an axes-level function for histograms).\n",
      "  warnings.warn(msg, FutureWarning)\n"
     ]
    },
    {
     "data": {
      "text/plain": [
       "<AxesSubplot:xlabel='Normal Distribution berdasarkan a_1', ylabel='Frequency'>"
      ]
     },
     "execution_count": 25,
     "metadata": {},
     "output_type": "execute_result"
    },
    {
     "data": {
      "image/png": "[encoded data removed]",
      "text/plain": [
       "<Figure size 640x480 with 1 Axes>"
      ]
     },
     "metadata": {},
     "output_type": "display_data"
    }
   ],
   "source": [
    "from scipy.stats import norm\n",
    "c_2 = norm.rvs(size=84548,loc=2,scale=16)\n",
    "plt.xlabel('Normal Distribution berdasarkan a_1')\n",
    "plt.ylabel('Frequency')\n",
    "sns.distplot(c_2)"
   ]
  },
  {
   "cell_type": "markdown",
   "id": "3a51973b",
   "metadata": {},
   "source": [
    "Argumen loc sesuai dengan mean $(\\mu)$, scale sesuai dengan standard deviasi $(\\sigma)$, dan size jumlah variasi acak."
   ]
  },
  {
   "cell_type": "markdown",
   "id": "970f363e",
   "metadata": {},
   "source": [
    "- Gamma Distribution dan Exponential Distribution <br>\n",
    "Rumus fungsi data berdistribusi gamma sebagai berikut. <br>\n",
    "$f(x) = \\frac{x^{a-1}}{\\beta^{a}\\Gamma(a)}e^{-\\frac{x}{\\beta}}$."
   ]
  },
  {
   "cell_type": "code",
   "execution_count": 26,
   "id": "8ac44fc0",
   "metadata": {
    "scrolled": false
   },
   "outputs": [
    {
     "name": "stderr",
     "output_type": "stream",
     "text": [
      "C:\\Users\\Axioo\\anaconda3\\lib\\site-packages\\seaborn\\distributions.py:2619: FutureWarning: `distplot` is a deprecated function and will be removed in a future version. Please adapt your code to use either `displot` (a figure-level function with similar flexibility) or `histplot` (an axes-level function for histograms).\n",
      "  warnings.warn(msg, FutureWarning)\n"
     ]
    },
    {
     "data": {
      "text/plain": [
       "<AxesSubplot:xlabel='Gamma Distribution berdasarkan a_1', ylabel='Frequency'>"
      ]
     },
     "execution_count": 26,
     "metadata": {},
     "output_type": "execute_result"
    },
    {
     "data": {
      "image/png": "[encoded data removed]",
      "text/plain": [
       "<Figure size 640x480 with 1 Axes>"
      ]
     },
     "metadata": {},
     "output_type": "display_data"
    }
   ],
   "source": [
    "from scipy.stats import gamma\n",
    "c_3 = gamma.rvs(size=280,a=2)\n",
    "plt.xlabel('Gamma Distribution berdasarkan a_1')\n",
    "plt.ylabel('Frequency')\n",
    "sns.distplot(c_3)"
   ]
  },
  {
   "cell_type": "markdown",
   "id": "4e3a8b26",
   "metadata": {},
   "source": [
    "Pada percobaan diatas diambil a = 2 sebagai puncak distribusi. <br>\n",
    "Diperhatikan bahwa $\\Gamma(a) = (a-1)!$ merupakan fungsi gamma sehingga apabila a = 1, akan menghasilkan fungsi berdistribusi eksponensial."
   ]
  },
  {
   "cell_type": "code",
   "execution_count": 27,
   "id": "32465510",
   "metadata": {},
   "outputs": [
    {
     "name": "stderr",
     "output_type": "stream",
     "text": [
      "C:\\Users\\Axioo\\anaconda3\\lib\\site-packages\\seaborn\\distributions.py:2619: FutureWarning: `distplot` is a deprecated function and will be removed in a future version. Please adapt your code to use either `displot` (a figure-level function with similar flexibility) or `histplot` (an axes-level function for histograms).\n",
      "  warnings.warn(msg, FutureWarning)\n"
     ]
    },
    {
     "data": {
      "text/plain": [
       "<AxesSubplot:xlabel='Exponential Distribution berdasarkan a_1', ylabel='Frequency'>"
      ]
     },
     "execution_count": 27,
     "metadata": {},
     "output_type": "execute_result"
    },
    {
     "data": {
      "image/png": "[encoded data removed]",
      "text/plain": [
       "<Figure size 640x480 with 1 Axes>"
      ]
     },
     "metadata": {},
     "output_type": "display_data"
    }
   ],
   "source": [
    "from scipy.stats import expon\n",
    "c_4 = expon.rvs(size=84548,loc=2,scale=16)\n",
    "plt.xlabel('Exponential Distribution berdasarkan a_1')\n",
    "plt.ylabel('Frequency')\n",
    "sns.distplot(c_4)"
   ]
  },
  {
   "cell_type": "markdown",
   "id": "c433f5da",
   "metadata": {},
   "source": [
    "Argumen loc sesuai dengan mean $(\\mu)$ distribusi, scale sesuai dengan standard deviasi $(\\sigma)$, dan size jumlah variasi acak."
   ]
  },
  {
   "cell_type": "markdown",
   "id": "c45a5516",
   "metadata": {},
   "source": [
    "- Possion Distribution <br>\n",
    "Rumus probabilitas data berdistribusi poisson sebagai berikut. <br>\n",
    "$p(x) = P(X=x) = \\frac{e^{-\\lambda}\\lambda^{x}}{x!}$ <br> dengan\n",
    "<br>\n",
    "X = 0,1,2... <br>\n",
    "$\\mu = \\lambda$ <br>\n",
    "$\\sigma = \\sqrt{\\lambda}$"
   ]
  },
  {
   "cell_type": "code",
   "execution_count": 28,
   "id": "a8cddc7a",
   "metadata": {
    "scrolled": false
   },
   "outputs": [
    {
     "name": "stderr",
     "output_type": "stream",
     "text": [
      "C:\\Users\\Axioo\\anaconda3\\lib\\site-packages\\seaborn\\distributions.py:2619: FutureWarning: `distplot` is a deprecated function and will be removed in a future version. Please adapt your code to use either `displot` (a figure-level function with similar flexibility) or `histplot` (an axes-level function for histograms).\n",
      "  warnings.warn(msg, FutureWarning)\n"
     ]
    },
    {
     "data": {
      "text/plain": [
       "<AxesSubplot:xlabel='Poisson Distribution berdasarkan a_1', ylabel='Frequency'>"
      ]
     },
     "execution_count": 28,
     "metadata": {},
     "output_type": "execute_result"
    },
    {
     "data": {
      "image/png": "[encoded data removed]",
      "text/plain": [
       "<Figure size 640x480 with 1 Axes>"
      ]
     },
     "metadata": {},
     "output_type": "display_data"
    }
   ],
   "source": [
    "from scipy.stats import poisson\n",
    "c_5 = poisson.rvs(size=84548,mu=280)\n",
    "plt.xlabel('Poisson Distribution berdasarkan a_1')\n",
    "plt.ylabel('Frequency')\n",
    "sns.distplot(c_2)"
   ]
  },
  {
   "cell_type": "markdown",
   "id": "84552f31",
   "metadata": {},
   "source": [
    "Berdasarkan rumus diatas, diperoleh bahwa $\\mu = \\lambda = \\sigma^{2}$"
   ]
  },
  {
   "cell_type": "markdown",
   "id": "add292cc",
   "metadata": {},
   "source": [
    "- Binomial Distribution <br>\n",
    "Rumus peluang data berdistribusi binomial sebagai berikut. <br>\n",
    "$f(x) = \\frac{n!}{(n-x)!}p^{x}q^{n-x}$ <br>\n",
    "<br>\n",
    "dengan <br>\n",
    "n = jumlah percobaan <br>\n",
    "p = peluang sukses <br>\n",
    "q = peluang gagal"
   ]
  },
  {
   "cell_type": "code",
   "execution_count": 29,
   "id": "1c4ecf8f",
   "metadata": {},
   "outputs": [
    {
     "name": "stdout",
     "output_type": "stream",
     "text": [
      "        neighborhood\n",
      "0      ALPHABET CITY\n",
      "1      ALPHABET CITY\n",
      "2      ALPHABET CITY\n",
      "3      ALPHABET CITY\n",
      "4      ALPHABET CITY\n",
      "...              ...\n",
      "84543        WOODROW\n",
      "84544        WOODROW\n",
      "84545        WOODROW\n",
      "84546        WOODROW\n",
      "84547        WOODROW\n",
      "\n",
      "[84548 rows x 1 columns]\n"
     ]
    }
   ],
   "source": [
    "c_6 = df_nyc.iloc[0:, 1:2]\n",
    "print(c_6)"
   ]
  },
  {
   "cell_type": "markdown",
   "id": "290b03a8",
   "metadata": {},
   "source": [
    "Akan ditunjukkan Binomial distribution berdasarkan data wilayah diatas."
   ]
  },
  {
   "cell_type": "code",
   "execution_count": 30,
   "id": "4345c46b",
   "metadata": {},
   "outputs": [
    {
     "name": "stderr",
     "output_type": "stream",
     "text": [
      "C:\\Users\\Axioo\\AppData\\Local\\Temp\\ipykernel_6812\\344254119.py:1: FutureWarning: Unlike other reduction functions (e.g. `skew`, `kurtosis`), the default behavior of `mode` typically preserves the axis it acts along. In SciPy 1.11.0, this behavior will change: the default value of `keepdims` will become False, the `axis` over which the statistic is taken will be eliminated, and the value None will no longer be accepted. Set `keepdims` to True or False to avoid this warning.\n",
      "  c_61 = scipy.stats.mode(c_6)\n"
     ]
    },
    {
     "name": "stdout",
     "output_type": "stream",
     "text": [
      "ModeResult(mode=array([['FLUSHING-NORTH']], dtype=object), count=array([[3068]]))\n",
      "0.3162227373799498\n"
     ]
    },
    {
     "name": "stderr",
     "output_type": "stream",
     "text": [
      "C:\\Users\\Axioo\\anaconda3\\lib\\site-packages\\scipy\\stats\\_stats_py.py:110: RuntimeWarning: The input array could not be properly checked for nan values. nan values will be ignored.\n",
      "  warnings.warn(\"The input array could not be properly \"\n",
      "C:\\Users\\Axioo\\AppData\\Local\\Temp\\ipykernel_6812\\344254119.py:1: DeprecationWarning: Support for non-numeric arrays has been deprecated as of SciPy 1.9.0 and will be removed in 1.11.0. `pandas.DataFrame.mode` can be used instead, see https://pandas.pydata.org/docs/reference/api/pandas.DataFrame.mode.html.\n",
      "  c_61 = scipy.stats.mode(c_6)\n"
     ]
    }
   ],
   "source": [
    "c_61 = scipy.stats.mode(c_6)\n",
    "print(c_61)\n",
    "p = 26736/84548\n",
    "print(p)"
   ]
  },
  {
   "cell_type": "markdown",
   "id": "78e655ec",
   "metadata": {},
   "source": [
    "Data distribusi yang akan ditunjukkan ialah berdasarkan kemunculan data Queens."
   ]
  },
  {
   "cell_type": "code",
   "execution_count": 31,
   "id": "d91b200a",
   "metadata": {},
   "outputs": [
    {
     "name": "stderr",
     "output_type": "stream",
     "text": [
      "C:\\Users\\Axioo\\anaconda3\\lib\\site-packages\\seaborn\\distributions.py:2619: FutureWarning: `distplot` is a deprecated function and will be removed in a future version. Please adapt your code to use either `displot` (a figure-level function with similar flexibility) or `histplot` (an axes-level function for histograms).\n",
      "  warnings.warn(msg, FutureWarning)\n"
     ]
    },
    {
     "data": {
      "text/plain": [
       "<AxesSubplot:xlabel='Binomial Distribution berdasarkan c_6', ylabel='Frequency'>"
      ]
     },
     "execution_count": 31,
     "metadata": {},
     "output_type": "execute_result"
    },
    {
     "data": {
      "image/png": "[encoded data removed]",
      "text/plain": [
       "<Figure size 640x480 with 1 Axes>"
      ]
     },
     "metadata": {},
     "output_type": "display_data"
    }
   ],
   "source": [
    "from scipy.stats import binom\n",
    "c_62 = binom.rvs(n = 26736,p=0.31622647758051736, size=84548)\n",
    "plt.xlabel('Binomial Distribution berdasarkan c_6')\n",
    "plt.ylabel('Frequency')\n",
    "sns.distplot(c_62)"
   ]
  },
  {
   "cell_type": "markdown",
   "id": "3574bb29",
   "metadata": {},
   "source": [
    "Berdasarkan data wilayah, ditunjukkan distribusi Queens muncul. Parameter-parameter yang digunakan sebagai berikut. <br>\n",
    "n = jumlah data queens mucul (jumlah total percobaan) <br> size = jumlah keseluruhan data <br> p = probabilitas data Queens muncul $\\frac{n}{size}$."
   ]
  },
  {
   "cell_type": "markdown",
   "id": "4739a354",
   "metadata": {},
   "source": [
    "- Bernoulli Distribution <br>\n",
    "Bernoulli distribution hanya memiliki dua kemungkinan hasil, yaitu berhasil (1) dan gagal (0)."
   ]
  },
  {
   "cell_type": "code",
   "execution_count": 32,
   "id": "d64f24ae",
   "metadata": {},
   "outputs": [
    {
     "name": "stderr",
     "output_type": "stream",
     "text": [
      "C:\\Users\\Axioo\\anaconda3\\lib\\site-packages\\seaborn\\distributions.py:2619: FutureWarning: `distplot` is a deprecated function and will be removed in a future version. Please adapt your code to use either `displot` (a figure-level function with similar flexibility) or `histplot` (an axes-level function for histograms).\n",
      "  warnings.warn(msg, FutureWarning)\n"
     ]
    },
    {
     "data": {
      "text/plain": [
       "<AxesSubplot:ylabel='Density'>"
      ]
     },
     "execution_count": 32,
     "metadata": {},
     "output_type": "execute_result"
    },
    {
     "data": {
      "image/png": "[encoded data removed]",
      "text/plain": [
       "<Figure size 640x480 with 1 Axes>"
      ]
     },
     "metadata": {},
     "output_type": "display_data"
    }
   ],
   "source": [
    "from scipy.stats import bernoulli\n",
    "c_7 = bernoulli.rvs(size=84548,p=0.31622647758051736)\n",
    "sns.distplot(c_7)"
   ]
  },
  {
   "cell_type": "markdown",
   "id": "c56e2712",
   "metadata": {},
   "source": [
    "Parameter-parameter yang digunakan sebagai berikut.\n",
    "- size = jumlah keseluruhan data\n",
    "- p = probabilitas data queens muncul"
   ]
  },
  {
   "cell_type": "markdown",
   "id": "00d3dcdf",
   "metadata": {},
   "source": [
    "# Confidence intervals"
   ]
  },
  {
   "cell_type": "markdown",
   "id": "029a0dba",
   "metadata": {},
   "source": [
    "Confidence interval = $\\mu \\pm (z-score \\times ste)$ <br> dengan\n",
    "ste = $\\sqrt{\\frac{p(1-p)}{n}}$. <br>\n",
    "Berikut parameter-parameter yang digunakan.\n",
    "- $\\mu$ = rata-rata\n",
    "- z-score = nilai z\n",
    "- ste = standar eror\n",
    "- p = probabilitas data ($\\frac{x}{n}$)\n",
    "- x = jumlah data yang muncul\n",
    "- n = jumlah keseluruhan data <br>\n",
    "\n",
    "Selanjutnya, akan ditunjukkan confidence interval berdasarkan data wilayah Brooklyn yang memiliki tahun dibangun 1925."
   ]
  },
  {
   "cell_type": "code",
   "execution_count": 33,
   "id": "63b293b7",
   "metadata": {},
   "outputs": [
    {
     "data": {
      "text/plain": [
       "Queens           26736\n",
       "Brooklyn         24047\n",
       "Manhattan        18306\n",
       "Staten Island     8410\n",
       "Bronx             7049\n",
       "Name: borough, dtype: int64"
      ]
     },
     "execution_count": 33,
     "metadata": {},
     "output_type": "execute_result"
    }
   ],
   "source": [
    "df_nyc['borough'].value_counts().head()"
   ]
  },
  {
   "cell_type": "code",
   "execution_count": 34,
   "id": "7f7f1999",
   "metadata": {},
   "outputs": [
    {
     "data": {
      "text/plain": [
       "(1577, 11)"
      ]
     },
     "execution_count": 34,
     "metadata": {},
     "output_type": "execute_result"
    }
   ],
   "source": [
    "#Jumlah data wilayah = Manhattan dan kelas pajak = 2\n",
    "d_1 = df_nyc[(df_nyc['borough']=='Brooklyn') & (df_nyc['year built']== 1925)]\n",
    "d_1.shape"
   ]
  },
  {
   "cell_type": "code",
   "execution_count": 35,
   "id": "05bdeccf",
   "metadata": {},
   "outputs": [
    {
     "name": "stdout",
     "output_type": "stream",
     "text": [
      "Diperoleh nilai standar error =  0.0015963423221811808\n"
     ]
    }
   ],
   "source": [
    "# menghitung standar error\n",
    "n = 24047\n",
    "x = 1577\n",
    "p = x/n\n",
    "ste = np.sqrt (p*(1-p)/n)\n",
    "print('Diperoleh nilai standar error = ', ste)"
   ]
  },
  {
   "cell_type": "code",
   "execution_count": 36,
   "id": "d2098528",
   "metadata": {},
   "outputs": [
    {
     "name": "stdout",
     "output_type": "stream",
     "text": [
      "Diperoleh lower limit of the CI =  0.06245107506590752\n",
      "Diperoleh upper limit of the CI = 0.06870873696885775\n"
     ]
    }
   ],
   "source": [
    "z_score = 1.96\n",
    "lcb = p - (z_score*ste)\n",
    "ucb = p + (z_score*ste)\n",
    "print('Diperoleh lower limit of the CI = ', lcb)\n",
    "print('Diperoleh upper limit of the CI =', ucb)"
   ]
  },
  {
   "cell_type": "markdown",
   "id": "cf7b4dd8",
   "metadata": {},
   "source": [
    "Berdasarkan perhitungan diatas, diperoleh hasil sebagai berikut. <br>\n",
    "Confidence interval = $\\mu \\pm (z-score \\times ste)$ <br>\n",
    "- $\\mu + (z-score \\times ste) = 0.8315317851637011 $\n",
    "- $\\mu - (z-score \\times ste) = 0.8422363782799785 $"
   ]
  },
  {
   "cell_type": "markdown",
   "id": "3519d88a",
   "metadata": {},
   "source": [
    "# Hypothesis Testing"
   ]
  },
  {
   "cell_type": "markdown",
   "id": "2d4e17b9",
   "metadata": {},
   "source": [
    "- One Population Proportion <br>\n",
    "Kuantitas yang digunakan untuk menafsirkan hasil tes dengan menerima atau menolak hipotesis awal $(H_0)$."
   ]
  },
  {
   "cell_type": "code",
   "execution_count": 40,
   "id": "0817f49a",
   "metadata": {},
   "outputs": [
    {
     "data": {
      "text/html": [
       "<div>\n",
       "<style scoped>\n",
       "    .dataframe tbody tr th:only-of-type {\n",
       "        vertical-align: middle;\n",
       "    }\n",
       "\n",
       "    .dataframe tbody tr th {\n",
       "        vertical-align: top;\n",
       "    }\n",
       "\n",
       "    .dataframe thead th {\n",
       "        text-align: right;\n",
       "    }\n",
       "</style>\n",
       "<table border=\"1\" class=\"dataframe\">\n",
       "  <thead>\n",
       "    <tr style=\"text-align: right;\">\n",
       "      <th></th>\n",
       "      <th>borough</th>\n",
       "      <th>neighborhood</th>\n",
       "      <th>building class category</th>\n",
       "      <th>residential units</th>\n",
       "      <th>commercial units</th>\n",
       "      <th>total units</th>\n",
       "      <th>land square feet</th>\n",
       "      <th>gross square feet</th>\n",
       "      <th>year built</th>\n",
       "      <th>sale price</th>\n",
       "      <th>sale date</th>\n",
       "    </tr>\n",
       "  </thead>\n",
       "  <tbody>\n",
       "    <tr>\n",
       "      <th>0</th>\n",
       "      <td>Manhattan</td>\n",
       "      <td>ALPHABET CITY</td>\n",
       "      <td>07 RENTALS - WALKUP APARTMENTS</td>\n",
       "      <td>5</td>\n",
       "      <td>0</td>\n",
       "      <td>5</td>\n",
       "      <td>1633</td>\n",
       "      <td>6440</td>\n",
       "      <td>1900</td>\n",
       "      <td>6625000</td>\n",
       "      <td>2017-07-19</td>\n",
       "    </tr>\n",
       "    <tr>\n",
       "      <th>1</th>\n",
       "      <td>Manhattan</td>\n",
       "      <td>ALPHABET CITY</td>\n",
       "      <td>07 RENTALS - WALKUP APARTMENTS</td>\n",
       "      <td>28</td>\n",
       "      <td>3</td>\n",
       "      <td>31</td>\n",
       "      <td>4616</td>\n",
       "      <td>18690</td>\n",
       "      <td>1900</td>\n",
       "      <td>0</td>\n",
       "      <td>2016-12-14</td>\n",
       "    </tr>\n",
       "    <tr>\n",
       "      <th>2</th>\n",
       "      <td>Manhattan</td>\n",
       "      <td>ALPHABET CITY</td>\n",
       "      <td>07 RENTALS - WALKUP APARTMENTS</td>\n",
       "      <td>16</td>\n",
       "      <td>1</td>\n",
       "      <td>17</td>\n",
       "      <td>2212</td>\n",
       "      <td>7803</td>\n",
       "      <td>1900</td>\n",
       "      <td>0</td>\n",
       "      <td>2016-12-09</td>\n",
       "    </tr>\n",
       "    <tr>\n",
       "      <th>3</th>\n",
       "      <td>Manhattan</td>\n",
       "      <td>ALPHABET CITY</td>\n",
       "      <td>07 RENTALS - WALKUP APARTMENTS</td>\n",
       "      <td>10</td>\n",
       "      <td>0</td>\n",
       "      <td>10</td>\n",
       "      <td>2272</td>\n",
       "      <td>6794</td>\n",
       "      <td>1913</td>\n",
       "      <td>3936272</td>\n",
       "      <td>2016-09-23</td>\n",
       "    </tr>\n",
       "    <tr>\n",
       "      <th>4</th>\n",
       "      <td>Manhattan</td>\n",
       "      <td>ALPHABET CITY</td>\n",
       "      <td>07 RENTALS - WALKUP APARTMENTS</td>\n",
       "      <td>6</td>\n",
       "      <td>0</td>\n",
       "      <td>6</td>\n",
       "      <td>2369</td>\n",
       "      <td>4615</td>\n",
       "      <td>1900</td>\n",
       "      <td>8000000</td>\n",
       "      <td>2016-11-17</td>\n",
       "    </tr>\n",
       "    <tr>\n",
       "      <th>...</th>\n",
       "      <td>...</td>\n",
       "      <td>...</td>\n",
       "      <td>...</td>\n",
       "      <td>...</td>\n",
       "      <td>...</td>\n",
       "      <td>...</td>\n",
       "      <td>...</td>\n",
       "      <td>...</td>\n",
       "      <td>...</td>\n",
       "      <td>...</td>\n",
       "      <td>...</td>\n",
       "    </tr>\n",
       "    <tr>\n",
       "      <th>18301</th>\n",
       "      <td>Manhattan</td>\n",
       "      <td>WASHINGTON HEIGHTS UPPER</td>\n",
       "      <td>29 COMMERCIAL GARAGES</td>\n",
       "      <td>0</td>\n",
       "      <td>1</td>\n",
       "      <td>1</td>\n",
       "      <td>1260</td>\n",
       "      <td>1080</td>\n",
       "      <td>1990</td>\n",
       "      <td>0</td>\n",
       "      <td>2016-11-16</td>\n",
       "    </tr>\n",
       "    <tr>\n",
       "      <th>18302</th>\n",
       "      <td>Manhattan</td>\n",
       "      <td>WASHINGTON HEIGHTS UPPER</td>\n",
       "      <td>31 COMMERCIAL VACANT LAND</td>\n",
       "      <td>0</td>\n",
       "      <td>0</td>\n",
       "      <td>0</td>\n",
       "      <td>13000</td>\n",
       "      <td>0</td>\n",
       "      <td>0</td>\n",
       "      <td>7500000</td>\n",
       "      <td>2016-11-01</td>\n",
       "    </tr>\n",
       "    <tr>\n",
       "      <th>18303</th>\n",
       "      <td>Manhattan</td>\n",
       "      <td>WASHINGTON HEIGHTS UPPER</td>\n",
       "      <td>33 EDUCATIONAL FACILITIES</td>\n",
       "      <td>0</td>\n",
       "      <td>1</td>\n",
       "      <td>1</td>\n",
       "      <td>29775</td>\n",
       "      <td>253942</td>\n",
       "      <td>1969</td>\n",
       "      <td>0</td>\n",
       "      <td>2017-04-21</td>\n",
       "    </tr>\n",
       "    <tr>\n",
       "      <th>18304</th>\n",
       "      <td>Manhattan</td>\n",
       "      <td>WASHINGTON HEIGHTS UPPER</td>\n",
       "      <td>33 EDUCATIONAL FACILITIES</td>\n",
       "      <td>0</td>\n",
       "      <td>1</td>\n",
       "      <td>1</td>\n",
       "      <td>25875</td>\n",
       "      <td>140260</td>\n",
       "      <td>1967</td>\n",
       "      <td>0</td>\n",
       "      <td>2017-04-21</td>\n",
       "    </tr>\n",
       "    <tr>\n",
       "      <th>18305</th>\n",
       "      <td>Manhattan</td>\n",
       "      <td>WASHINGTON HEIGHTS UPPER</td>\n",
       "      <td>44 CONDO PARKING</td>\n",
       "      <td>0</td>\n",
       "      <td>0</td>\n",
       "      <td>1</td>\n",
       "      <td>0</td>\n",
       "      <td>0</td>\n",
       "      <td>2005</td>\n",
       "      <td>0</td>\n",
       "      <td>2016-09-19</td>\n",
       "    </tr>\n",
       "  </tbody>\n",
       "</table>\n",
       "<p>18306 rows × 11 columns</p>\n",
       "</div>"
      ],
      "text/plain": [
       "         borough              neighborhood  \\\n",
       "0      Manhattan             ALPHABET CITY   \n",
       "1      Manhattan             ALPHABET CITY   \n",
       "2      Manhattan             ALPHABET CITY   \n",
       "3      Manhattan             ALPHABET CITY   \n",
       "4      Manhattan             ALPHABET CITY   \n",
       "...          ...                       ...   \n",
       "18301  Manhattan  WASHINGTON HEIGHTS UPPER   \n",
       "18302  Manhattan  WASHINGTON HEIGHTS UPPER   \n",
       "18303  Manhattan  WASHINGTON HEIGHTS UPPER   \n",
       "18304  Manhattan  WASHINGTON HEIGHTS UPPER   \n",
       "18305  Manhattan  WASHINGTON HEIGHTS UPPER   \n",
       "\n",
       "                           building class category  residential units  \\\n",
       "0      07 RENTALS - WALKUP APARTMENTS                               5   \n",
       "1      07 RENTALS - WALKUP APARTMENTS                              28   \n",
       "2      07 RENTALS - WALKUP APARTMENTS                              16   \n",
       "3      07 RENTALS - WALKUP APARTMENTS                              10   \n",
       "4      07 RENTALS - WALKUP APARTMENTS                               6   \n",
       "...                                            ...                ...   \n",
       "18301  29 COMMERCIAL GARAGES                                        0   \n",
       "18302  31 COMMERCIAL VACANT LAND                                    0   \n",
       "18303  33 EDUCATIONAL FACILITIES                                    0   \n",
       "18304  33 EDUCATIONAL FACILITIES                                    0   \n",
       "18305  44 CONDO PARKING                                             0   \n",
       "\n",
       "       commercial units  total units  land square feet  gross square feet  \\\n",
       "0                     0            5              1633               6440   \n",
       "1                     3           31              4616              18690   \n",
       "2                     1           17              2212               7803   \n",
       "3                     0           10              2272               6794   \n",
       "4                     0            6              2369               4615   \n",
       "...                 ...          ...               ...                ...   \n",
       "18301                 1            1              1260               1080   \n",
       "18302                 0            0             13000                  0   \n",
       "18303                 1            1             29775             253942   \n",
       "18304                 1            1             25875             140260   \n",
       "18305                 0            1                 0                  0   \n",
       "\n",
       "       year built  sale price  sale date  \n",
       "0            1900     6625000 2017-07-19  \n",
       "1            1900           0 2016-12-14  \n",
       "2            1900           0 2016-12-09  \n",
       "3            1913     3936272 2016-09-23  \n",
       "4            1900     8000000 2016-11-17  \n",
       "...           ...         ...        ...  \n",
       "18301        1990           0 2016-11-16  \n",
       "18302           0     7500000 2016-11-01  \n",
       "18303        1969           0 2017-04-21  \n",
       "18304        1967           0 2017-04-21  \n",
       "18305        2005           0 2016-09-19  \n",
       "\n",
       "[18306 rows x 11 columns]"
      ]
     },
     "execution_count": 40,
     "metadata": {},
     "output_type": "execute_result"
    }
   ],
   "source": [
    "e"
   ]
  },
  {
   "cell_type": "code",
   "execution_count": 37,
   "id": "8142dfc4",
   "metadata": {},
   "outputs": [
    {
     "name": "stdout",
     "output_type": "stream",
     "text": [
      "(18306, 11)\n",
      "(7049, 11)\n"
     ]
    }
   ],
   "source": [
    "e = df_nyc[df_nyc['borough']=='Manhattan']\n",
    "print(e.shape)\n",
    "f = df_nyc[df_nyc['borough']=='Bronx']\n",
    "print(f.shape)"
   ]
  },
  {
   "cell_type": "markdown",
   "id": "3f786612",
   "metadata": {},
   "source": [
    "Berdasarkan data yang diambil, dipilih hipotesis awal, yaitu rata-rata total unit di Manhattan > rata-rata total unit di Bronx. <br>\n",
    "- $H_0 : \\mu_{e} > \\mu_{f}$\n",
    "- $H_1 : \\mu_{e} \\leq \\mu_{f}$."
   ]
  },
  {
   "cell_type": "code",
   "execution_count": 42,
   "id": "1b6c1527",
   "metadata": {},
   "outputs": [
    {
     "name": "stdout",
     "output_type": "stream",
     "text": [
      "       total units\n",
      "0                5\n",
      "1               31\n",
      "2               17\n",
      "3               10\n",
      "4                6\n",
      "...            ...\n",
      "18301            1\n",
      "18302            0\n",
      "18303            1\n",
      "18304            1\n",
      "18305            1\n",
      "\n",
      "[18306 rows x 1 columns]\n",
      "       total units\n",
      "18306            1\n",
      "18307            1\n",
      "18308            1\n",
      "18309            1\n",
      "18310            1\n",
      "...            ...\n",
      "25350            0\n",
      "25351            0\n",
      "25352            2\n",
      "25353            2\n",
      "25354            1\n",
      "\n",
      "[7049 rows x 1 columns]\n"
     ]
    }
   ],
   "source": [
    "e_1 = e.iloc[:,5:6]\n",
    "print(e_1)\n",
    "f_1 = f.iloc[:, 5:6]\n",
    "print(f_1)"
   ]
  },
  {
   "cell_type": "code",
   "execution_count": 43,
   "id": "ad23945d",
   "metadata": {},
   "outputs": [
    {
     "name": "stdout",
     "output_type": "stream",
     "text": [
      "rata-rata total units    2.649623\n",
      "dtype: float64\n",
      "standar deviasi total units    23.307873\n",
      "dtype: float64\n",
      "rata-rata total units    3.603774\n",
      "dtype: float64\n",
      "standar deviasi total units    24.000651\n",
      "dtype: float64\n"
     ]
    },
    {
     "name": "stderr",
     "output_type": "stream",
     "text": [
      "C:\\Users\\Axioo\\anaconda3\\lib\\site-packages\\numpy\\core\\fromnumeric.py:3438: FutureWarning: In a future version, DataFrame.mean(axis=None) will return a scalar mean over the entire DataFrame. To retain the old behavior, use 'frame.mean(axis=0)' or just 'frame.mean()'\n",
      "  return mean(axis=axis, dtype=dtype, out=out, **kwargs)\n"
     ]
    }
   ],
   "source": [
    "e_2 = np.mean(e_1)\n",
    "e_3 = np.std(e_1,ddof=1)\n",
    "print('rata-rata',e_2)\n",
    "print('standar deviasi',e_3)\n",
    "f_2 = np.mean(f_1)\n",
    "f_3 = np.std(f_1,ddof=1)\n",
    "print('rata-rata',f_2)\n",
    "print('standar deviasi',f_3)"
   ]
  },
  {
   "cell_type": "markdown",
   "id": "ccbe041c",
   "metadata": {},
   "source": [
    "Berdasarkan hasil yang diperoleh, didapati bahwa rata-rata total units di wilayah Manhattan ialah $2.649623$ dan rata-rata total units di bronx ialah $3.603774$. Dengan demikian, diperoleh bahwa $2.649623$ < $3.603774$. Artinya, hipotesis awal ditolak."
   ]
  },
  {
   "cell_type": "markdown",
   "id": "2846433f",
   "metadata": {},
   "source": [
    "**Overall Analysis**\n",
    "- Residential unit memiliki jumlah data unit terbanyak pada jumlah $1$ unit dengan jumlah data tersebut sebanyak $34722$ buah, memiliki nilai tengah dari data pada nilai $1$ unit, memiliki range data sebesar $1844$ unit dengan jumlah standar deviasi data tersebut ialah senilai $16.721037$, sehingga memiliki nilai variansi sejumlah $279.593079$, dan memiliki nilai rata-rata $2.025264 \\approx 2$.\n",
    "- Commercial unit memiliki jumlah data unit terbanyak pada jumlah $0$ unit dengan jumlah data tersebut sebanyak $79429$ buah, memiliki nilai tengah dari data pada nilai $0$ unit, memiliki range data sebesar $2261$ unit dengan jumlah standar deviasi data tersebut ialah senilai $8.713183$, sehingga memiliki nilai variansi sejumlah $75.919564$, dan memiliki nilai rata-rata $ 0.193559 \\approx 0$.\n",
    "- Data unit di wiliayah Manhatta yang memiliki kelas pajak '2' memiliki nilai confidence interval dari $0.8315317851637011 \\approx 83.1$% sampai $0.8422363782799785 \\approx 84.2$%. <br>\n",
    "- rata-rata total unit di Manhattan $\\leq$ rata-rata total unit di Bronx."
   ]
  }
 ],
 "metadata": {
  "kernelspec": {
   "display_name": "Python 3 (ipykernel)",
   "language": "python",
   "name": "python3"
  },
  "language_info": {
   "codemirror_mode": {
    "name": "ipython",
    "version": 3
   },
   "file_extension": ".py",
   "mimetype": "text/x-python",
   "name": "python",
   "nbconvert_exporter": "python",
   "pygments_lexer": "ipython3",
   "version": "3.9.13"
  }
 },
 "nbformat": 4,
 "nbformat_minor": 5
}
